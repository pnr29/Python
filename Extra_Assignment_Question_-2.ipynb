{
 "cells": [
  {
   "cell_type": "code",
   "execution_count": 17,
   "id": "fedf80c8-9287-4256-b92f-263f1d30384c",
   "metadata": {},
   "outputs": [
    {
     "name": "stdout",
     "output_type": "stream",
     "text": [
      "0\n",
      "1\n",
      "2\n",
      "3\n",
      "4\n",
      "5\n",
      "6\n",
      "7\n",
      "8\n",
      "9\n",
      "10\n",
      "11\n",
      "12\n",
      "13\n",
      "14\n",
      "15\n",
      "16\n",
      "17\n",
      "18\n",
      "19\n"
     ]
    }
   ],
   "source": [
    "# print 0 to 20 by using range\n",
    "for data in range (0,20,1):\n",
    "    print(data)\n",
    "\n",
    "\n"
   ]
  },
  {
   "cell_type": "code",
   "execution_count": 19,
   "id": "044896d5-3934-4bb4-a1fb-2141cb7fad50",
   "metadata": {},
   "outputs": [
    {
     "name": "stdout",
     "output_type": "stream",
     "text": [
      "30\n",
      "32\n",
      "34\n",
      "36\n",
      "38\n"
     ]
    }
   ],
   "source": [
    "for num in range (30,40,2):\n",
    "    print(num)\n",
    "\n"
   ]
  },
  {
   "cell_type": "code",
   "execution_count": 21,
   "id": "95f93169-bbfb-40dc-9670-66a5d8b96e0a",
   "metadata": {},
   "outputs": [
    {
     "name": "stdout",
     "output_type": "stream",
     "text": [
      "30\n",
      "33\n",
      "36\n",
      "39\n"
     ]
    }
   ],
   "source": [
    "for num in range (30,40,3):\n",
    "    print(num)\n"
   ]
  },
  {
   "cell_type": "code",
   "execution_count": 78,
   "id": "f5c7bc80-196c-4905-920e-002594e011dc",
   "metadata": {},
   "outputs": [
    {
     "name": "stdout",
     "output_type": "stream",
     "text": [
      "5\n"
     ]
    }
   ],
   "source": [
    "# Print number of items in the list by using 'len'\n",
    "\n",
    "data = [23, 24, 34, 44, 54]\n",
    "length = len(data)\n",
    "print(length) \n",
    " "
   ]
  },
  {
   "cell_type": "code",
   "execution_count": 76,
   "id": "e30f4654-b892-4a91-a0a7-458df6d52a53",
   "metadata": {},
   "outputs": [
    {
     "name": "stdout",
     "output_type": "stream",
     "text": [
      "3\n"
     ]
    }
   ],
   "source": [
    "\n",
    "data = [23, 24, 34,]\n",
    "length = len(data)\n",
    "print(length) "
   ]
  },
  {
   "cell_type": "code",
   "execution_count": 136,
   "id": "47f19361-428c-4c59-a13c-e2c162a73f13",
   "metadata": {},
   "outputs": [
    {
     "name": "stdout",
     "output_type": "stream",
     "text": [
      "(1, 'Welocme', 2, 'Hope')\n"
     ]
    }
   ],
   "source": [
    "# Refer this link : https://www.geeksforgeeks.org/python-tuples/\n",
    "# Print yhis mixered datatype using Tuples\n",
    "\n",
    "Tuple=(1,\"Welocme\", 2, \"Hope\")\n",
    "print(Tuple)"
   ]
  },
  {
   "cell_type": "code",
   "execution_count": 138,
   "id": "4214a318-27d3-4ad1-acff-336f8922b41d",
   "metadata": {},
   "outputs": [
    {
     "name": "stdout",
     "output_type": "stream",
     "text": [
      "((0, 1, 2, 3), ('python', 'Hope'))\n"
     ]
    }
   ],
   "source": [
    "# Refer this link : https://www.geeksforgeeks.org/python-tuples/\n",
    "Tuple1 =(0,1,2,3)\n",
    "Tuple2 =(\"python\", \"Hope\")\n",
    "Tuple3 =(Tuple1,Tuple2)\n",
    "print(Tuple3)\n"
   ]
  },
  {
   "cell_type": "code",
   "execution_count": null,
   "id": "d82bdfca-0abf-4795-8d4a-f1c5bf2219a7",
   "metadata": {},
   "outputs": [],
   "source": [
    "# print Even numbers in the list\n",
    "# print Odd Numbers in the list\n"
   ]
  },
  {
   "cell_type": "code",
   "execution_count": 17,
   "id": "39221591-b065-4811-af6d-b42412a9fe21",
   "metadata": {},
   "outputs": [
    {
     "name": "stdout",
     "output_type": "stream",
     "text": [
      "Artificial Intelligence\n",
      "A\n",
      "r\n",
      "t\n",
      "i\n",
      "f\n",
      "i\n",
      "c\n",
      "i\n",
      "a\n",
      "l\n",
      " \n",
      "I\n",
      "n\n",
      "t\n",
      "e\n",
      "l\n",
      "l\n",
      "i\n",
      "g\n",
      "e\n",
      "n\n",
      "c\n",
      "e\n"
     ]
    }
   ],
   "source": [
    "print(\"Artificial Intelligence\")\n",
    "s=\"Artificial Intelligence\"\n",
    "for i in s:\n",
    "    print(i)\n",
    "\t"
   ]
  },
  {
   "cell_type": "code",
   "execution_count": 19,
   "id": "1b894049-aa0f-41d4-8b3e-469605be3ee7",
   "metadata": {},
   "outputs": [
    {
     "name": "stdout",
     "output_type": "stream",
     "text": [
      "Thamizhini\n",
      "T\n",
      "h\n",
      "a\n",
      "m\n",
      "i\n",
      "z\n",
      "h\n",
      "i\n",
      "n\n",
      "i\n"
     ]
    }
   ],
   "source": [
    "print(\"Thamizhini\")\n",
    "s=\"Thamizhini\"\n",
    "for i in s:\n",
    "    print(i)"
   ]
  },
  {
   "cell_type": "code",
   "execution_count": 32,
   "id": "805d817e-4b26-4828-96de-8628b452e615",
   "metadata": {},
   "outputs": [
    {
     "name": "stdout",
     "output_type": "stream",
     "text": [
      "name\n",
      "age\n",
      "proferssion\n"
     ]
    }
   ],
   "source": [
    "list=[\"name\", \"age\",\"proferssion\"]\n",
    "for i in list:\n",
    "\tprint(i)"
   ]
  },
  {
   "cell_type": "code",
   "execution_count": 29,
   "id": "d5b2ae4d-7802-4848-809c-c5c6eb3e6e9e",
   "metadata": {},
   "outputs": [
    {
     "name": "stdout",
     "output_type": "stream",
     "text": [
      "Nirmal\n",
      "34\n",
      "IT\n"
     ]
    }
   ],
   "source": [
    "list=[\"Nirmal\", \"34\",\"IT\"]\n",
    "for i in list:\n",
    "\tprint(i)"
   ]
  },
  {
   "cell_type": "code",
   "execution_count": 100,
   "id": "b5a2e3f0-d1f5-41d2-8eb2-61886bf7ea4e",
   "metadata": {},
   "outputs": [
    {
     "name": "stdout",
     "output_type": "stream",
     "text": [
      "24 Is Even Number\n",
      "19 Is Odd Number\n"
     ]
    }
   ],
   "source": [
    "a = 24 \n",
    "if a % 24 == 0:\n",
    "    print(a,\"Is Even Number\")\n",
    "else:\n",
    "    print(a, \"Is Odd Number\")\n",
    "b = 19\n",
    "if b % 19 == 1:\n",
    "    print(b,\"Is Even Number\")\n",
    "else:\n",
    "    print(b, \"Is Odd Number\")"
   ]
  },
  {
   "cell_type": "code",
   "execution_count": 11,
   "id": "8c0a6eb7-981c-4dc0-a9c7-ff1240758199",
   "metadata": {},
   "outputs": [
    {
     "name": "stdin",
     "output_type": "stream",
     "text": [
      "Enter a number:  34\n"
     ]
    },
    {
     "name": "stdout",
     "output_type": "stream",
     "text": [
      "34 is Even\n"
     ]
    }
   ],
   "source": [
    "num = int(input(\"Enter a number: \"))\n",
    "if (num % 2) == 0:\n",
    "   print(\"{0} is Even\".format(num))\n",
    "else:\n",
    "   print(\"{0} is Odd\".format(num))"
   ]
  },
  {
   "cell_type": "code",
   "execution_count": 13,
   "id": "fd32533d-8ed3-4b4f-9485-0acfa67479fe",
   "metadata": {},
   "outputs": [
    {
     "name": "stdin",
     "output_type": "stream",
     "text": [
      "Enter a number:  99\n"
     ]
    },
    {
     "name": "stdout",
     "output_type": "stream",
     "text": [
      "99 is Odd\n"
     ]
    }
   ],
   "source": [
    "num = int(input(\"Enter a number: \"))\n",
    "if (num % 2) == 0:\n",
    "   print(\"{0} is Even\".format(num))\n",
    "else:\n",
    "   print(\"{0} is Odd\".format(num))"
   ]
  },
  {
   "cell_type": "code",
   "execution_count": 36,
   "id": "d8f3f5a6-63e4-4289-8871-f1ca313e5ddb",
   "metadata": {},
   "outputs": [
    {
     "name": "stdin",
     "output_type": "stream",
     "text": [
      "enter the number: 5\n"
     ]
    },
    {
     "name": "stdout",
     "output_type": "stream",
     "text": [
      "odd number\n"
     ]
    }
   ],
   "source": [
    "num=int(input(\"enter the number:\"))\n",
    "if (num%2)==0:\n",
    "\tprint(\"even number\")\n",
    "else:\n",
    "\tprint(\"odd number\")"
   ]
  },
  {
   "cell_type": "code",
   "execution_count": 46,
   "id": "45ca442a-176b-47b0-bca8-7829e1271d96",
   "metadata": {},
   "outputs": [
    {
     "name": "stdin",
     "output_type": "stream",
     "text": [
      "enter the number: 44\n"
     ]
    },
    {
     "name": "stdout",
     "output_type": "stream",
     "text": [
      "even number\n"
     ]
    }
   ],
   "source": [
    "num=int(input(\"enter the number:\"))\n",
    "if (num%2)==0:\n",
    "\tprint(\"even number\")\n",
    "else:\n",
    "\tprint(\"odd number\")"
   ]
  },
  {
   "cell_type": "code",
   "execution_count": 50,
   "id": "97210ca6-a7d2-43dd-ab05-54215bbefb0c",
   "metadata": {},
   "outputs": [
    {
     "name": "stdout",
     "output_type": "stream",
     "text": [
      "Even numbers in the list:  5\n",
      "Odd numbers in the list:  3\n"
     ]
    }
   ],
   "source": [
    "num = [20,10,16,19,25,1,276,188]\n",
    "even_count, odd_count = 0, 0\n",
    "for num in num:\n",
    "    if num % 2 == 0:\n",
    "        even_count += 1\n",
    "    else:\n",
    "        odd_count += 1\n",
    "print(\"Even numbers in the list: \", even_count)\n",
    "print(\"Odd numbers in the list: \", odd_count)"
   ]
  },
  {
   "cell_type": "code",
   "execution_count": 130,
   "id": "0be0a0d3-2c09-4b2a-bf14-ea5f7c49935a",
   "metadata": {},
   "outputs": [
    {
     "name": "stdout",
     "output_type": "stream",
     "text": [
      "(20,10,16,19,25,1,276,188)\n",
      "20 is even\n",
      "10 is even\n",
      "16 is even\n",
      "276 is even\n",
      "188 is even\n"
     ]
    }
   ],
   "source": [
    "num=[20,10,16,19,25,1,276,188]\n",
    "print(\"(20,10,16,19,25,1,276,188)\")\n",
    "for i in num:\n",
    "    if i % 2 == 0:\n",
    "        print(i,\"is even\")\n"
   ]
  },
  {
   "cell_type": "code",
   "execution_count": 132,
   "id": "563a41be-2840-4ee9-aa55-6120bcabfc7e",
   "metadata": {},
   "outputs": [
    {
     "name": "stdout",
     "output_type": "stream",
     "text": [
      "(20,10,16,19,25,1,276,188)\n",
      "19 is odd\n",
      "25 is odd\n",
      "1 is odd\n"
     ]
    }
   ],
   "source": [
    "num=[20,10,16,19,25,1,276,188]\n",
    "print(\"(20,10,16,19,25,1,276,188)\")\n",
    "for i in num:\n",
    "    if i % 2 == 1:\n",
    "        print(i,\"is odd\")\n"
   ]
  },
  {
   "cell_type": "code",
   "execution_count": null,
   "id": "fb96abf4-1348-46de-afa8-33ce3dd86edb",
   "metadata": {},
   "outputs": [],
   "source": []
  }
 ],
 "metadata": {
  "kernelspec": {
   "display_name": "Python 3 (ipykernel)",
   "language": "python",
   "name": "python3"
  },
  "language_info": {
   "codemirror_mode": {
    "name": "ipython",
    "version": 3
   },
   "file_extension": ".py",
   "mimetype": "text/x-python",
   "name": "python",
   "nbconvert_exporter": "python",
   "pygments_lexer": "ipython3",
   "version": "3.12.7"
  }
 },
 "nbformat": 4,
 "nbformat_minor": 5
}
