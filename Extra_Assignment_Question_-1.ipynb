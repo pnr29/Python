{
 "cells": [
  {
   "cell_type": "code",
   "execution_count": 27,
   "id": "7ca9346a-b2eb-4f3c-b970-c9e357daad3d",
   "metadata": {},
   "outputs": [
    {
     "name": "stdin",
     "output_type": "stream",
     "text": [
      "a=  43\n",
      "b=  34\n"
     ]
    },
    {
     "name": "stdout",
     "output_type": "stream",
     "text": [
      "add = 77\n"
     ]
    }
   ],
   "source": [
    "#Addition\n",
    "num1 = int(input(\"a= \"))\n",
    "num2 = int(input(\"b= \"))\n",
    "print(\"add =\",num1+num2)\n"
   ]
  },
  {
   "cell_type": "code",
   "execution_count": 29,
   "id": "4318c030-20de-45cf-b30a-2c117f0b9305",
   "metadata": {},
   "outputs": [
    {
     "name": "stdin",
     "output_type": "stream",
     "text": [
      "a=  43\n",
      "b=  34\n"
     ]
    },
    {
     "name": "stdout",
     "output_type": "stream",
     "text": [
      "sub = 9\n"
     ]
    }
   ],
   "source": [
    "#Subtraction\n",
    "num1 = int(input(\"a= \"))\n",
    "num2 = int(input(\"b= \"))\n",
    "print(\"sub =\",num1-num2)"
   ]
  },
  {
   "cell_type": "code",
   "execution_count": 31,
   "id": "50e8bc9c-5e6e-4edf-9470-e8d05bb29510",
   "metadata": {},
   "outputs": [
    {
     "name": "stdin",
     "output_type": "stream",
     "text": [
      "a=  63\n",
      "b=  97\n"
     ]
    },
    {
     "name": "stdout",
     "output_type": "stream",
     "text": [
      "mul = 6111\n"
     ]
    }
   ],
   "source": [
    "#Multiplication\n",
    "num1 = int(input(\"a= \"))\n",
    "num2 = int(input(\"b= \"))\n",
    "print(\"mul =\",num1*num2)"
   ]
  },
  {
   "cell_type": "code",
   "execution_count": 37,
   "id": "5b3e5b7f-17ed-463a-8e61-6cb485f04caf",
   "metadata": {},
   "outputs": [
    {
     "name": "stdin",
     "output_type": "stream",
     "text": [
      "a=  76\n",
      "b=  31\n"
     ]
    },
    {
     "name": "stdout",
     "output_type": "stream",
     "text": [
      "float div = 2.4516129032258065\n"
     ]
    }
   ],
   "source": [
    "#Division\n",
    "num1 = int(input(\"a= \"))\n",
    "num2 = int(input(\"b= \"))\n",
    "print(\"float div =\",num1/num2)"
   ]
  },
  {
   "cell_type": "code",
   "execution_count": 39,
   "id": "643e72b1-e0ac-4b76-ab55-9e43753b5041",
   "metadata": {},
   "outputs": [
    {
     "name": "stdin",
     "output_type": "stream",
     "text": [
      "a=  76\n",
      "b=  31\n"
     ]
    },
    {
     "name": "stdout",
     "output_type": "stream",
     "text": [
      "float div = 2\n"
     ]
    }
   ],
   "source": [
    "#Floor division\n",
    "num1 = int(input(\"a= \"))\n",
    "num2 = int(input(\"b= \"))\n",
    "print(\"float div =\",num1//num2)"
   ]
  },
  {
   "cell_type": "code",
   "execution_count": 41,
   "id": "6e9a6cfa-64f8-49b9-9363-d67e9d58eb5b",
   "metadata": {},
   "outputs": [
    {
     "name": "stdin",
     "output_type": "stream",
     "text": [
      "a=  76\n",
      "b=  31\n"
     ]
    },
    {
     "name": "stdout",
     "output_type": "stream",
     "text": [
      "mod = 14\n"
     ]
    }
   ],
   "source": [
    "#Modulo\n",
    "num1 = int(input(\"a= \"))\n",
    "num2 = int(input(\"b= \"))\n",
    "print(\"mod =\",num1 % num2)"
   ]
  },
  {
   "cell_type": "code",
   "execution_count": 47,
   "id": "46605ade-6423-4644-b49c-ec6658e866bc",
   "metadata": {},
   "outputs": [
    {
     "name": "stdin",
     "output_type": "stream",
     "text": [
      "a=  4\n",
      "b=  4\n"
     ]
    },
    {
     "name": "stdout",
     "output_type": "stream",
     "text": [
      "pow = 256\n"
     ]
    }
   ],
   "source": [
    "#Power\n",
    "num1 = int(input(\"a= \"))\n",
    "num2 = int(input(\"b= \"))\n",
    "print(\"pow =\",num1**num2)\n",
    "\n"
   ]
  },
  {
   "cell_type": "code",
   "execution_count": null,
   "id": "cb2f76d8-9e7e-42ce-bb1a-9078cd64687a",
   "metadata": {},
   "outputs": [],
   "source": []
  }
 ],
 "metadata": {
  "kernelspec": {
   "display_name": "Python 3 (ipykernel)",
   "language": "python",
   "name": "python3"
  },
  "language_info": {
   "codemirror_mode": {
    "name": "ipython",
    "version": 3
   },
   "file_extension": ".py",
   "mimetype": "text/x-python",
   "name": "python",
   "nbconvert_exporter": "python",
   "pygments_lexer": "ipython3",
   "version": "3.12.7"
  }
 },
 "nbformat": 4,
 "nbformat_minor": 5
}
