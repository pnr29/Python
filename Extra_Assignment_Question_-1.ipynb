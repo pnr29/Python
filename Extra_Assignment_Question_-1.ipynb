{
 "cells": [
  {
   "cell_type": "code",
   "execution_count": 137,
   "id": "57528e7a-3a70-4d4f-ab2d-b6002670fa2d",
   "metadata": {},
   "outputs": [
    {
     "name": "stdin",
     "output_type": "stream",
     "text": [
      "coding exercises  1\n",
      "name Hope AI\n",
      "institue name  HOPE AI\n",
      "location coimbatore\n"
     ]
    }
   ],
   "source": [
    "#print Statement\n",
    "exercises2=input(\"coding exercises \")\n",
    "name=input(\"name\")\n",
    "learning_institute=input(\"institue name \")\n",
    "location=input(\"location\")"
   ]
  },
  {
   "cell_type": "code",
   "execution_count": null,
   "id": "a51b63aa-485e-4c85-9bde-9604fbdfa4cd",
   "metadata": {},
   "outputs": [],
   "source": [
    "# Buy input"
   ]
  },
  {
   "cell_type": "code",
   "execution_count": 43,
   "id": "1cd3dd6a-4564-4293-b3fe-80b8e57a615c",
   "metadata": {},
   "outputs": [
    {
     "name": "stdin",
     "output_type": "stream",
     "text": [
      "coding exercises 2\n",
      "your name Nirmalraj\n",
      "your age 34\n",
      "location bengaluru \n",
      "enter your drgree b.sc\n"
     ]
    }
   ],
   "source": [
    "exercises2=input(\"coding exercises\")\n",
    "name=input(\"your name\")\n",
    "age=input(\"your age\")\n",
    "work=input(\"location\")\n",
    "qualifaction=input(\"enter your drgree\")\n"
   ]
  },
  {
   "cell_type": "code",
   "execution_count": 125,
   "id": "7ca9346a-b2eb-4f3c-b970-c9e357daad3d",
   "metadata": {},
   "outputs": [
    {
     "name": "stdout",
     "output_type": "stream",
     "text": [
      "A=43\n",
      "A=34\n",
      "Add= 77\n"
     ]
    }
   ],
   "source": [
    "#Addition\n",
    "a=43\n",
    "b=34\n",
    "print(\"A=43\")\n",
    "print(\"A=34\")\n",
    "print(\"Add=\",add)"
   ]
  },
  {
   "cell_type": "code",
   "execution_count": 121,
   "id": "4318c030-20de-45cf-b30a-2c117f0b9305",
   "metadata": {},
   "outputs": [
    {
     "name": "stdout",
     "output_type": "stream",
     "text": [
      "A=43\n",
      "A=34\n",
      "sub= 9\n"
     ]
    }
   ],
   "source": [
    "#Subtraction\n",
    "a=43\n",
    "b=34\n",
    "sub=a-b\n",
    "print(\"A=43\")\n",
    "print(\"A=34\")\n",
    "print(\"sub=\",sub)"
   ]
  },
  {
   "cell_type": "code",
   "execution_count": 123,
   "id": "50e8bc9c-5e6e-4edf-9470-e8d05bb29510",
   "metadata": {},
   "outputs": [
    {
     "name": "stdout",
     "output_type": "stream",
     "text": [
      "A=63\n",
      "A=97\n",
      "mul= 6111\n"
     ]
    }
   ],
   "source": [
    "#Multiplication\n",
    "a=63\n",
    "b=97\n",
    "mul=a*b\n",
    "print(\"A=63\")\n",
    "print(\"A=97\")\n",
    "print(\"mul=\",mul)"
   ]
  },
  {
   "cell_type": "code",
   "execution_count": 119,
   "id": "5b3e5b7f-17ed-463a-8e61-6cb485f04caf",
   "metadata": {},
   "outputs": [
    {
     "name": "stdout",
     "output_type": "stream",
     "text": [
      "A=76\n",
      "A=31\n",
      "div= 2.4516129032258065\n"
     ]
    }
   ],
   "source": [
    "#Division\n",
    "a= 76\n",
    "b= 31\n",
    "div=a/b\n",
    "print(\"A=76\")\n",
    "print(\"A=31\")\n",
    "print(\"div=\",div)"
   ]
  },
  {
   "cell_type": "code",
   "execution_count": 117,
   "id": "643e72b1-e0ac-4b76-ab55-9e43753b5041",
   "metadata": {},
   "outputs": [
    {
     "name": "stdout",
     "output_type": "stream",
     "text": [
      "A=76\n",
      "A=31\n",
      "div= 2\n"
     ]
    }
   ],
   "source": [
    "#Floor division\n",
    "a= 76\n",
    "b= 31\n",
    "div=a//b\n",
    "print(\"A=76\")\n",
    "print(\"A=31\")\n",
    "print(\"div=\",div)"
   ]
  },
  {
   "cell_type": "code",
   "execution_count": 127,
   "id": "6e9a6cfa-64f8-49b9-9363-d67e9d58eb5b",
   "metadata": {},
   "outputs": [
    {
     "name": "stdout",
     "output_type": "stream",
     "text": [
      "A=76\n",
      "A=31\n",
      "mod= 2\n"
     ]
    }
   ],
   "source": [
    "#Modulo\n",
    "a= 76\n",
    "b= 31\n",
    "mod=a//b\n",
    "print(\"A=76\")\n",
    "print(\"A=31\")\n",
    "print(\"mod=\",mod)"
   ]
  },
  {
   "cell_type": "code",
   "execution_count": 131,
   "id": "46605ade-6423-4644-b49c-ec6658e866bc",
   "metadata": {},
   "outputs": [
    {
     "name": "stdout",
     "output_type": "stream",
     "text": [
      "A=76\n",
      "A=31\n",
      "pow= 256\n"
     ]
    }
   ],
   "source": [
    "#Power\n",
    "a= 4\n",
    "b= 4\n",
    "pow=a**b\n",
    "print(\"A=76\")\n",
    "print(\"A=31\")\n",
    "print(\"pow=\",pow)\n",
    "\n"
   ]
  },
  {
   "cell_type": "code",
   "execution_count": null,
   "id": "cb2f76d8-9e7e-42ce-bb1a-9078cd64687a",
   "metadata": {},
   "outputs": [],
   "source": []
  }
 ],
 "metadata": {
  "kernelspec": {
   "display_name": "Python 3 (ipykernel)",
   "language": "python",
   "name": "python3"
  },
  "language_info": {
   "codemirror_mode": {
    "name": "ipython",
    "version": 3
   },
   "file_extension": ".py",
   "mimetype": "text/x-python",
   "name": "python",
   "nbconvert_exporter": "python",
   "pygments_lexer": "ipython3",
   "version": "3.12.7"
  }
 },
 "nbformat": 4,
 "nbformat_minor": 5
}
