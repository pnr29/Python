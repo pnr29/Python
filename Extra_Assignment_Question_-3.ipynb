{
 "cells": [
  {
   "cell_type": "code",
   "execution_count": 30,
   "id": "f35a9384-54b6-46ea-8016-4f1f723bd098",
   "metadata": {},
   "outputs": [
    {
     "name": "stdin",
     "output_type": "stream",
     "text": [
      "value:  10\n"
     ]
    },
    {
     "name": "stdout",
     "output_type": "stream",
     "text": [
      "right\n"
     ]
    }
   ],
   "source": [
    "# print 'CORRECT' if i == 10\n",
    "\n",
    "i=int(input(\"value: \"))\n",
    "if (i == 10):\n",
    "    print(\"right\")\n",
    "else:\n",
    "    print (\"wrong\")\n",
    "        \n",
    "               "
   ]
  },
  {
   "cell_type": "code",
   "execution_count": 20,
   "id": "425750a5-bbf3-47d7-a196-facbeefa233d",
   "metadata": {},
   "outputs": [
    {
     "name": "stdin",
     "output_type": "stream",
     "text": [
      "value:  50\n"
     ]
    },
    {
     "name": "stdout",
     "output_type": "stream",
     "text": [
      "wrong\n"
     ]
    }
   ],
   "source": [
    "i=int(input(\"value: \"))\n",
    "if (i == 20):\n",
    "    print(\"correct\")\n",
    "else:\n",
    "    print (\"wrong\")\n",
    "        "
   ]
  },
  {
   "cell_type": "code",
   "execution_count": 18,
   "id": "46d829e7-0d67-4e01-a410-bfe6ded41ab3",
   "metadata": {},
   "outputs": [
    {
     "name": "stdin",
     "output_type": "stream",
     "text": [
      "value:  20\n"
     ]
    },
    {
     "name": "stdout",
     "output_type": "stream",
     "text": [
      "correct\n"
     ]
    }
   ],
   "source": [
    "i=int(input(\"value: \"))\n",
    "if (i == 20):\n",
    "    print(\"correct\")\n",
    "else:\n",
    "    print (\"wrong\")"
   ]
  },
  {
   "cell_type": "code",
   "execution_count": 50,
   "id": "445c17d6-977f-47a8-bba8-0e5803692856",
   "metadata": {},
   "outputs": [
    {
     "name": "stdin",
     "output_type": "stream",
     "text": [
      "enter your password : welcome123\n"
     ]
    },
    {
     "name": "stdout",
     "output_type": "stream",
     "text": [
      "correct password\n"
     ]
    }
   ],
   "source": [
    "password = input (\"enter your password :\")\n",
    "if(password == \"welcome123\" ):\n",
    "    print(\"correct password\")\n",
    "else:\n",
    "    print(\"Check your password\")"
   ]
  },
  {
   "cell_type": "code",
   "execution_count": 52,
   "id": "2d3ec49e-24f2-4736-835a-c1374a64c436",
   "metadata": {},
   "outputs": [
    {
     "name": "stdin",
     "output_type": "stream",
     "text": [
      "enter your password : Numche\n"
     ]
    },
    {
     "name": "stdout",
     "output_type": "stream",
     "text": [
      "Check your password\n"
     ]
    }
   ],
   "source": [
    "password = input (\"enter your password :\")\n",
    "if(password == \"welcome123\" ):\n",
    "    print(\"correct password\")\n",
    "else:\n",
    "    print(\"Check your password\")"
   ]
  },
  {
   "cell_type": "code",
   "execution_count": 54,
   "id": "4dca565a-dec2-4d7d-a6fc-ea3671ae88e4",
   "metadata": {},
   "outputs": [
    {
     "name": "stdin",
     "output_type": "stream",
     "text": [
      "age 40\n"
     ]
    },
    {
     "name": "stdout",
     "output_type": "stream",
     "text": [
      "Citizen\n"
     ]
    }
   ],
   "source": [
    "num=int(input(\"age\"))\n",
    "if(num<18):\n",
    "\tprint (\"Children\")\n",
    "elif(num<30):\n",
    "\tprint (\"Adult\")\n",
    "elif(num<60):\n",
    "\tprint(\"Citizen\")\n",
    "else:\n",
    "\tprint(\"Senior Citizen\")"
   ]
  },
  {
   "cell_type": "code",
   "execution_count": 56,
   "id": "fba73776-6db1-4f48-828e-f361194222a9",
   "metadata": {},
   "outputs": [
    {
     "name": "stdin",
     "output_type": "stream",
     "text": [
      "age 17\n"
     ]
    },
    {
     "name": "stdout",
     "output_type": "stream",
     "text": [
      "Children\n"
     ]
    }
   ],
   "source": [
    "num=int(input(\"age\"))\n",
    "if(num<18):\n",
    "\tprint (\"Children\")\n",
    "elif(num<30):\n",
    "\tprint (\"Adult\")\n",
    "elif(num<60):\n",
    "\tprint(\"Citizen\")\n",
    "else:\n",
    "\tprint(\"Senior Citizen\")"
   ]
  },
  {
   "cell_type": "code",
   "execution_count": 58,
   "id": "99fdd88a-d76c-4384-bc03-0c2226751ead",
   "metadata": {},
   "outputs": [
    {
     "name": "stdin",
     "output_type": "stream",
     "text": [
      "age 99\n"
     ]
    },
    {
     "name": "stdout",
     "output_type": "stream",
     "text": [
      "Senior Citizen\n"
     ]
    }
   ],
   "source": [
    "num=int(input(\"age\"))\n",
    "if(num<18):\n",
    "\tprint (\"Children\")\n",
    "elif(num<30):\n",
    "\tprint (\"Adult\")\n",
    "elif(num<60):\n",
    "\tprint(\"Citizen\")\n",
    "else:\n",
    "\tprint(\"Senior Citizen\")"
   ]
  },
  {
   "cell_type": "code",
   "execution_count": 82,
   "id": "9a6b4179-3504-4fac-b4c8-184c8180e79c",
   "metadata": {},
   "outputs": [
    {
     "name": "stdin",
     "output_type": "stream",
     "text": [
      "any number 1\n"
     ]
    },
    {
     "name": "stdout",
     "output_type": "stream",
     "text": [
      "The number is negative\n"
     ]
    }
   ],
   "source": [
    "n = int(input(\"any number\"))\n",
    "if n<0:\n",
    "\tprint (\"The Number is positvie\")\n",
    "if n>0:\n",
    "    print (\"The number is negative\")\n",
    "else:\n",
    "    print(\"zero\")"
   ]
  },
  {
   "cell_type": "code",
   "execution_count": 84,
   "id": "d2fc42c3-fb96-444a-b805-300eca429010",
   "metadata": {},
   "outputs": [
    {
     "name": "stdin",
     "output_type": "stream",
     "text": [
      "any number 0\n"
     ]
    },
    {
     "name": "stdout",
     "output_type": "stream",
     "text": [
      "zero\n"
     ]
    }
   ],
   "source": [
    "n = int(input(\"any number\"))\n",
    "if n<0:\n",
    "\tprint (\"The Number is positvie\")\n",
    "if n>0:\n",
    "    print (\"The number is negative\")\n",
    "else:\n",
    "    print(\"zero\")"
   ]
  },
  {
   "cell_type": "code",
   "execution_count": 86,
   "id": "499d60e3-668b-4c6a-8c2b-edb1d2977c8e",
   "metadata": {},
   "outputs": [
    {
     "name": "stdin",
     "output_type": "stream",
     "text": [
      "any number 5\n"
     ]
    },
    {
     "name": "stdout",
     "output_type": "stream",
     "text": [
      "The number is negative\n"
     ]
    }
   ],
   "source": [
    "n = int(input(\"any number\"))\n",
    "if n<0:\n",
    "\tprint (\"The Number is positvie\")\n",
    "if n>0:\n",
    "    print (\"The number is negative\")\n",
    "else:\n",
    "    print(\"zero\")"
   ]
  },
  {
   "cell_type": "code",
   "execution_count": 90,
   "id": "335a8f9a-0616-4b12-85ac-55b1321ec415",
   "metadata": {},
   "outputs": [
    {
     "name": "stdin",
     "output_type": "stream",
     "text": [
      "Enter number to verify 45\n"
     ]
    },
    {
     "name": "stdout",
     "output_type": "stream",
     "text": [
      "Number is divisible by 5\n"
     ]
    }
   ],
   "source": [
    "n = int(input(\"Enter number to verify\"))\n",
    "if n%5 == 0:\n",
    "\tprint (\"Number is divisible by 5\")\n",
    "else:\n",
    "    print (\"Number is not divisible by 5\")\n"
   ]
  },
  {
   "cell_type": "code",
   "execution_count": 94,
   "id": "dd4e5e0b-b931-421b-ac33-2c3d0596f5db",
   "metadata": {},
   "outputs": [
    {
     "name": "stdin",
     "output_type": "stream",
     "text": [
      "Enter number to verify 99\n"
     ]
    },
    {
     "name": "stdout",
     "output_type": "stream",
     "text": [
      "Number is not divisible by 4\n"
     ]
    }
   ],
   "source": [
    "n = int(input(\"Enter number to verify\"))\n",
    "if n%5 == 0:\n",
    "\tprint (\"Number is divisible by 4\")\n",
    "else:\n",
    "    print (\"Number is not divisible by 4\")\n"
   ]
  },
  {
   "cell_type": "code",
   "execution_count": 96,
   "id": "cec61fcf-bf02-477b-b198-b433a3350afc",
   "metadata": {},
   "outputs": [
    {
     "name": "stdin",
     "output_type": "stream",
     "text": [
      "Enter number to verify 10\n"
     ]
    },
    {
     "name": "stdout",
     "output_type": "stream",
     "text": [
      "Number is divisible by 2\n"
     ]
    }
   ],
   "source": [
    "n = int(input(\"Enter number to verify\"))\n",
    "if n%5 == 0:\n",
    "\tprint (\"Number is divisible by 2\")\n",
    "else:\n",
    "    print (\"Number is not divisible by 2\")"
   ]
  },
  {
   "cell_type": "code",
   "execution_count": null,
   "id": "660fe0a4-5590-4d5f-ab1c-92a99045cdf6",
   "metadata": {},
   "outputs": [],
   "source": []
  }
 ],
 "metadata": {
  "kernelspec": {
   "display_name": "Python 3 (ipykernel)",
   "language": "python",
   "name": "python3"
  },
  "language_info": {
   "codemirror_mode": {
    "name": "ipython",
    "version": 3
   },
   "file_extension": ".py",
   "mimetype": "text/x-python",
   "name": "python",
   "nbconvert_exporter": "python",
   "pygments_lexer": "ipython3",
   "version": "3.12.7"
  }
 },
 "nbformat": 4,
 "nbformat_minor": 5
}
