{
 "cells": [
  {
   "cell_type": "code",
   "execution_count": 3,
   "id": "bda0c03c-aec7-454c-a7e9-f3daed3ef108",
   "metadata": {},
   "outputs": [
    {
     "name": "stdin",
     "output_type": "stream",
     "text": [
      "Enter your BMI Index 56\n"
     ]
    },
    {
     "name": "stdout",
     "output_type": "stream",
     "text": [
      "extreme obse\n"
     ]
    }
   ],
   "source": [
    "bmi=int(input(\"Enter your BMI Index\"))\n",
    "if(bmi<16):\n",
    "\tprint (\"under weight\")\n",
    "elif(bmi<25):\n",
    "\tprint (\"normal weight\")\n",
    "elif(bmi<30):\n",
    "\tprint(\"Over weight\")\n",
    "elif(bmi<35):\n",
    "\tprint(\"obse\")\n",
    "elif(bmi<60):\n",
    "\tprint(\"extreme obse\")\n"
   ]
  },
  {
   "cell_type": "code",
   "execution_count": 11,
   "id": "5ddc0db5-6567-4121-8812-59abb59991fe",
   "metadata": {},
   "outputs": [
    {
     "name": "stdin",
     "output_type": "stream",
     "text": [
      "Enter your BMI Index 45\n"
     ]
    },
    {
     "name": "stdout",
     "output_type": "stream",
     "text": [
      "extreme obse\n"
     ]
    }
   ],
   "source": [
    "bmi=int(input(\"Enter your BMI Index\"))\n",
    "if(bmi<16):\n",
    "\tprint (\"under weight\")\n",
    "elif(bmi<25):\n",
    "\tprint (\"normal weight\")\n",
    "elif(bmi<30):\n",
    "\tprint(\"Over weight\")\n",
    "elif(bmi<35):\n",
    "\tprint(\"obse\")\n",
    "elif(bmi<60):\n",
    "\tprint(\"extreme obse\")\n"
   ]
  },
  {
   "cell_type": "code",
   "execution_count": 13,
   "id": "0ba962b4-f55f-455a-bfae-d0d5820916c2",
   "metadata": {},
   "outputs": [
    {
     "name": "stdin",
     "output_type": "stream",
     "text": [
      "Enter your BMI Index 32\n"
     ]
    },
    {
     "name": "stdout",
     "output_type": "stream",
     "text": [
      "obse\n"
     ]
    }
   ],
   "source": [
    "bmi=int(input(\"Enter your BMI Index\"))\n",
    "if(bmi<16):\n",
    "\tprint (\"under weight\")\n",
    "elif(bmi<25):\n",
    "\tprint (\"normal weight\")\n",
    "elif(bmi<30):\n",
    "\tprint(\"Over weight\")\n",
    "elif(bmi<35):\n",
    "\tprint(\"obse\")\n",
    "elif(bmi<60):\n",
    "\tprint(\"extreme obse\")"
   ]
  },
  {
   "cell_type": "code",
   "execution_count": 29,
   "id": "ed0ca925-8cf4-46db-a3c0-7008e1cb984d",
   "metadata": {},
   "outputs": [
    {
     "name": "stdin",
     "output_type": "stream",
     "text": [
      "enter the num1: 897\n"
     ]
    }
   ],
   "source": [
    "num1=input(\"enter the num1:\")"
   ]
  },
  {
   "cell_type": "code",
   "execution_count": 31,
   "id": "eca99e43-e8f5-4107-abc2-adc9f541cd4d",
   "metadata": {},
   "outputs": [
    {
     "name": "stdin",
     "output_type": "stream",
     "text": [
      "enter the num2: 187\n"
     ]
    }
   ],
   "source": [
    "num2=input(\"enter the num2:\")"
   ]
  },
  {
   "cell_type": "code",
   "execution_count": 33,
   "id": "a2e3724f-d5bd-4d1e-9a99-a007a5314a94",
   "metadata": {},
   "outputs": [],
   "source": [
    "add=num1+num2"
   ]
  },
  {
   "cell_type": "code",
   "execution_count": 35,
   "id": "ab1e8bd2-5f32-4fbc-a8dd-2ca1fca85efa",
   "metadata": {},
   "outputs": [
    {
     "name": "stdout",
     "output_type": "stream",
     "text": [
      "897187\n"
     ]
    }
   ],
   "source": [
    "print(add)"
   ]
  },
  {
   "cell_type": "code",
   "execution_count": 37,
   "id": "ef75b279-4768-45ad-921f-09bc7dc3c985",
   "metadata": {},
   "outputs": [
    {
     "name": "stdin",
     "output_type": "stream",
     "text": [
      "enter the num1: 897\n"
     ]
    }
   ],
   "source": [
    "num1=input(\"enter the num1:\")"
   ]
  },
  {
   "cell_type": "code",
   "execution_count": 39,
   "id": "211be41d-1e3a-4683-ad0f-10d7ec5eb5b8",
   "metadata": {},
   "outputs": [
    {
     "name": "stdin",
     "output_type": "stream",
     "text": [
      "enter the num2: 187\n"
     ]
    }
   ],
   "source": [
    "num2=input(\"enter the num2:\")"
   ]
  },
  {
   "cell_type": "code",
   "execution_count": 41,
   "id": "06a8f92d-99ad-4c7b-a702-5be957aa48f2",
   "metadata": {},
   "outputs": [
    {
     "name": "stdin",
     "output_type": "stream",
     "text": [
      "enter the num1: 285\n",
      "enter the num2: 1247\n"
     ]
    },
    {
     "name": "stdout",
     "output_type": "stream",
     "text": [
      "1532\n"
     ]
    }
   ],
   "source": [
    "num1=int(input(\"enter the num1:\"))\n",
    "num2=int(input(\"enter the num2:\"))\n",
    "add=num1+num2\n",
    "print(add)\n"
   ]
  },
  {
   "cell_type": "code",
   "execution_count": 43,
   "id": "e19df26d-8696-47da-8217-0c6a640bda1f",
   "metadata": {},
   "outputs": [
    {
     "name": "stdin",
     "output_type": "stream",
     "text": [
      "enter the num1: 99999\n",
      "enter the num2: 12865\n"
     ]
    },
    {
     "name": "stdout",
     "output_type": "stream",
     "text": [
      "87134\n"
     ]
    }
   ],
   "source": [
    "num1=int(input(\"enter the num1:\"))\n",
    "num2=int(input(\"enter the num2:\"))\n",
    "sub=num1-num2\n",
    "print(sub)"
   ]
  },
  {
   "cell_type": "code",
   "execution_count": 45,
   "id": "6fa49346-1eea-465d-bd40-0eb20dca784d",
   "metadata": {},
   "outputs": [
    {
     "name": "stdin",
     "output_type": "stream",
     "text": [
      "enter the num1: 987\n",
      "enter the num2: 347\n"
     ]
    },
    {
     "name": "stdout",
     "output_type": "stream",
     "text": [
      "640\n"
     ]
    }
   ],
   "source": [
    "num1=int(input(\"enter the num1:\"))\n",
    "num2=int(input(\"enter the num2:\"))\n",
    "sub=num1-num2\n",
    "print(sub)"
   ]
  },
  {
   "cell_type": "code",
   "execution_count": 49,
   "id": "611c9a0b-8c00-4bab-96b6-075cc52fb5bd",
   "metadata": {},
   "outputs": [
    {
     "name": "stdin",
     "output_type": "stream",
     "text": [
      "enter the num1: 24\n",
      "enter the num2: 54\n"
     ]
    },
    {
     "name": "stdout",
     "output_type": "stream",
     "text": [
      "mul\n",
      "1296\n"
     ]
    }
   ],
   "source": [
    "num1=int(input(\"enter the num1:\"))\n",
    "num2=int(input(\"enter the num2:\"))\n",
    "mul=num1*num2\n",
    "print(mul)"
   ]
  },
  {
   "cell_type": "code",
   "execution_count": 61,
   "id": "9e0c4c58-797c-43f9-addf-aff3bf9fc902",
   "metadata": {},
   "outputs": [
    {
     "name": "stdin",
     "output_type": "stream",
     "text": [
      "enter the a1: 46\n",
      "enter the b1: 89\n"
     ]
    },
    {
     "name": "stdout",
     "output_type": "stream",
     "text": [
      "add\n",
      "135\n"
     ]
    }
   ],
   "source": [
    "a1=int(input(\"enter the a1:\"))\n",
    "b1=int(input(\"enter the b1:\"))\n",
    "add=a1+b1\n",
    "print(\"add\")\n",
    "print(add)"
   ]
  },
  {
   "cell_type": "code",
   "execution_count": 63,
   "id": "36d273e4-8414-4b24-a8ef-13b4673eaee5",
   "metadata": {},
   "outputs": [
    {
     "name": "stdin",
     "output_type": "stream",
     "text": [
      "enter the a1 value: 789\n",
      "enter the b1 value: 675\n",
      "enter the c1 value: 345\n"
     ]
    },
    {
     "name": "stdout",
     "output_type": "stream",
     "text": [
      "1809\n"
     ]
    }
   ],
   "source": [
    "a1=int(input(\"enter the a1 value:\"))\n",
    "b1=int(input(\"enter the b1 value:\"))\n",
    "c1=int(input(\"enter the c1 value:\"))\n",
    "add=a1+b1+c1\n",
    "print(add)\n"
   ]
  },
  {
   "cell_type": "code",
   "execution_count": null,
   "id": "bf598791-56bc-484e-9636-96044cad1166",
   "metadata": {},
   "outputs": [],
   "source": []
  }
 ],
 "metadata": {
  "kernelspec": {
   "display_name": "Python 3 (ipykernel)",
   "language": "python",
   "name": "python3"
  },
  "language_info": {
   "codemirror_mode": {
    "name": "ipython",
    "version": 3
   },
   "file_extension": ".py",
   "mimetype": "text/x-python",
   "name": "python",
   "nbconvert_exporter": "python",
   "pygments_lexer": "ipython3",
   "version": "3.12.7"
  }
 },
 "nbformat": 4,
 "nbformat_minor": 5
}
