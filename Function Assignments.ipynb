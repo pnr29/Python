{
 "cells": [
  {
   "cell_type": "code",
   "execution_count": 9,
   "id": "e2a469c2-8d92-45cb-b319-2fc9eaddc2b0",
   "metadata": {},
   "outputs": [],
   "source": [
    "def Subfields():\n",
    "    print(\"Sub-fields in AI are\")\n",
    "    List=['Machine Learning', 'Neural Networks', 'Vision', 'Robotics', 'Speech','Processing', 'Natural Language Processing']\n",
    "    for temp in List:\n",
    "        print(temp)\n"
   ]
  },
  {
   "cell_type": "code",
   "execution_count": 11,
   "id": "0f85fbbc-50e0-4e6f-a7ac-dab3976f28e7",
   "metadata": {},
   "outputs": [
    {
     "name": "stdout",
     "output_type": "stream",
     "text": [
      "Sub-fields in AI are\n",
      "Machine Learning\n",
      "Neural Networks\n",
      "Vision\n",
      "Robotics\n",
      "Speech\n",
      "Processing\n",
      "Natural Language Processing\n"
     ]
    }
   ],
   "source": [
    "Subfields()"
   ]
  },
  {
   "cell_type": "code",
   "execution_count": 108,
   "id": "38f31122-a3d0-44c9-bc18-ab9c12ab257f",
   "metadata": {},
   "outputs": [],
   "source": [
    "def AWSinfra():\n",
    "    print(\"AWSinfra\")\n",
    "    List=['EC2', 'VPN', 'Route53', 'RDS']\n",
    "    for temp in List:\n",
    "        print(temp)"
   ]
  },
  {
   "cell_type": "code",
   "execution_count": 110,
   "id": "b3247cfc-9ef6-4965-9e2d-fdeb77116696",
   "metadata": {},
   "outputs": [
    {
     "name": "stdout",
     "output_type": "stream",
     "text": [
      "AWSinfra\n",
      "EC2\n",
      "VPN\n",
      "Route53\n",
      "RDS\n"
     ]
    }
   ],
   "source": [
    "AWSinfra()"
   ]
  },
  {
   "cell_type": "code",
   "execution_count": 41,
   "id": "b6bf3559-834d-45be-8faf-68acc6cdd932",
   "metadata": {},
   "outputs": [],
   "source": [
    "def oddEven():\n",
    "    num=int(input(\"enter the number:\"))\n",
    "    if (num%2)==0:\n",
    "            print(\"{0} is Even number\".format(num))\n",
    "    else:\n",
    "            print(\"{0} is odd number\".format(num))"
   ]
  },
  {
   "cell_type": "code",
   "execution_count": 43,
   "id": "393e9c6a-cf2c-4fe9-a30f-61c0b156d237",
   "metadata": {},
   "outputs": [
    {
     "name": "stdin",
     "output_type": "stream",
     "text": [
      "enter the number: 4\n"
     ]
    },
    {
     "name": "stdout",
     "output_type": "stream",
     "text": [
      "4 is Even number\n"
     ]
    }
   ],
   "source": [
    "oddEven()"
   ]
  },
  {
   "cell_type": "code",
   "execution_count": 112,
   "id": "5ecb9835-18d1-401a-ac7c-0c582bd3d9d5",
   "metadata": {},
   "outputs": [],
   "source": [
    "def oddEven():\n",
    "    num=int(input(\"enter the number:\"))\n",
    "    if (num%2)==0:\n",
    "            print(\"{0} is Even number\".format(num))\n",
    "    else:\n",
    "            print(\"{0} is odd number\".format(num))"
   ]
  },
  {
   "cell_type": "code",
   "execution_count": 114,
   "id": "5ae88aa4-c4da-46e2-beac-d0ec0dd79680",
   "metadata": {},
   "outputs": [
    {
     "name": "stdin",
     "output_type": "stream",
     "text": [
      "enter the number: 99\n"
     ]
    },
    {
     "name": "stdout",
     "output_type": "stream",
     "text": [
      "99 is odd number\n"
     ]
    }
   ],
   "source": [
    "oddEven()"
   ]
  },
  {
   "cell_type": "code",
   "execution_count": 94,
   "id": "b9a78c35-bad9-4e35-aa43-1ed879ff9c1f",
   "metadata": {},
   "outputs": [],
   "source": [
    "def Elegible():        \n",
    "    gender=input(\"Your Gender:\")\n",
    "    age=int(input(\"Your Age:\"))\n",
    "    if(gender=='Male'):\n",
    "        if(age >=21):\n",
    "            print('elegiable')\n",
    "        else:\n",
    "            print(\"NOT elegiable\")\n",
    "    elif(gender=='Female'):\n",
    "        if(age >18):\n",
    "            print('ELIGIBLE')\n",
    "    else:\n",
    "            print('NOT ELIGIBLE')"
   ]
  },
  {
   "cell_type": "code",
   "execution_count": 98,
   "id": "ffcf0d6c-f6f3-46e5-9514-02d2a7ab561b",
   "metadata": {},
   "outputs": [
    {
     "name": "stdin",
     "output_type": "stream",
     "text": [
      "Your Gender: male\n",
      "Your Age: 18\n"
     ]
    },
    {
     "name": "stdout",
     "output_type": "stream",
     "text": [
      "NOT ELIGIBLE\n"
     ]
    }
   ],
   "source": [
    "Elegible()"
   ]
  },
  {
   "cell_type": "code",
   "execution_count": 100,
   "id": "e4f38d4d-48b2-481a-b686-0d3d63d80035",
   "metadata": {},
   "outputs": [],
   "source": [
    "def percentage():\n",
    "    m1=int(input(\"Subject1= \"))\n",
    "    m2=int(input(\"Subject2= \"))\n",
    "    m3=int(input(\"Subject3= \"))\n",
    "    m4=int(input(\"Subject4= \"))\n",
    "    m5=int(input(\"Subject5= \"))\n",
    "    Total = m1+m2+m3+m4+m5\n",
    "    print(\"Total : \",m1+m2+m3+m4+m5)\n",
    "    Percent = (Total / 500) * 100\n",
    "    print(\"Percentage : \",Percent)"
   ]
  },
  {
   "cell_type": "code",
   "execution_count": 102,
   "id": "da0a2f59-b473-4763-b6f6-cd6f371b7c0f",
   "metadata": {},
   "outputs": [
    {
     "name": "stdin",
     "output_type": "stream",
     "text": [
      "Subject1=  23\n",
      "Subject2=  45\n",
      "Subject3=  34\n",
      "Subject4=  23\n",
      "Subject5=  23\n"
     ]
    },
    {
     "name": "stdout",
     "output_type": "stream",
     "text": [
      "Total :  148\n",
      "Percentage :  29.599999999999998\n"
     ]
    }
   ],
   "source": [
    "percentage()"
   ]
  },
  {
   "cell_type": "code",
   "execution_count": 104,
   "id": "fe4276cd-b352-4306-b4a2-41a773870ef0",
   "metadata": {},
   "outputs": [],
   "source": [
    "def triangle():\n",
    "    Height=int(input(\"Height:\"))\n",
    "    breadth=int(input(\"Breadth:\"))\n",
    "    print(\"Area formula: (Height*Breadth)/2\")\n",
    "    print(\"Area of Triangle: \",(Height*breadth)/2)\n",
    "    Height1=int(input(\"Height1:\"))\n",
    "    Height2=int(input(\"Height2:\"))\n",
    "    breadth=int(input(\"Breadth:\"))\n",
    "    print(\"Perimeter formula: Height1+Height2+Breadth\")\n",
    "    print(\"Perimeter of Triangle: \",Height1+Height2+breadth)"
   ]
  },
  {
   "cell_type": "code",
   "execution_count": 106,
   "id": "5b8e83e6-9342-4e3d-8661-e67279c526e7",
   "metadata": {},
   "outputs": [
    {
     "name": "stdin",
     "output_type": "stream",
     "text": [
      "Height: 3\n",
      "Breadth: 4\n"
     ]
    },
    {
     "name": "stdout",
     "output_type": "stream",
     "text": [
      "Area formula: (Height*Breadth)/2\n",
      "Area of Triangle:  6.0\n"
     ]
    },
    {
     "name": "stdin",
     "output_type": "stream",
     "text": [
      "Height1: 3\n",
      "Height2: 4\n",
      "Breadth: 45\n"
     ]
    },
    {
     "name": "stdout",
     "output_type": "stream",
     "text": [
      "Perimeter formula: Height1+Height2+Breadth\n",
      "Perimeter of Triangle:  52\n"
     ]
    }
   ],
   "source": [
    "triangle()"
   ]
  },
  {
   "cell_type": "code",
   "execution_count": null,
   "id": "98db9d1f-9236-4787-87ba-6238d44245b8",
   "metadata": {},
   "outputs": [],
   "source": []
  }
 ],
 "metadata": {
  "kernelspec": {
   "display_name": "Python 3 (ipykernel)",
   "language": "python",
   "name": "python3"
  },
  "language_info": {
   "codemirror_mode": {
    "name": "ipython",
    "version": 3
   },
   "file_extension": ".py",
   "mimetype": "text/x-python",
   "name": "python",
   "nbconvert_exporter": "python",
   "pygments_lexer": "ipython3",
   "version": "3.12.7"
  }
 },
 "nbformat": 4,
 "nbformat_minor": 5
}
