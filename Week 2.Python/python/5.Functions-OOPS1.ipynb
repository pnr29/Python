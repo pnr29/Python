{
 "cells": [
  {
   "cell_type": "code",
   "execution_count": 1,
   "id": "cd41216f-513e-4644-bef8-3c58abfc44a5",
   "metadata": {},
   "outputs": [],
   "source": [
    "def AgeCategory():        \n",
    "        if (age<18):\n",
    "            print(\"children\")\n",
    "            cate=\"children\"\n",
    "        elif(age<35):\n",
    "            print(\"adult\")\n",
    "            cate=\"adult\"\n",
    "        elif(age<59):\n",
    "            print(\"citizen\")\n",
    "            cate=\"citizen\"\n",
    "        else:\n",
    "            print(\"senior citizen\")\n",
    "            cate=\"senior citizen\"\n",
    "        return cate"
   ]
  },
  {
   "cell_type": "code",
   "execution_count": 3,
   "id": "43fe615e-b7ae-4698-a2e0-5c82680d74b7",
   "metadata": {},
   "outputs": [
    {
     "name": "stdin",
     "output_type": "stream",
     "text": [
      "Enter the age 25\n"
     ]
    },
    {
     "name": "stdout",
     "output_type": "stream",
     "text": [
      "adult\n"
     ]
    }
   ],
   "source": [
    "age=int(input(\"Enter the age\"))\n",
    "agecate=AgeCategory()"
   ]
  },
  {
   "cell_type": "code",
   "execution_count": 5,
   "id": "a7ff4314-b184-4d58-8c91-9771f3ab2877",
   "metadata": {},
   "outputs": [
    {
     "name": "stdout",
     "output_type": "stream",
     "text": [
      "adult\n"
     ]
    }
   ],
   "source": [
    "print(agecate)"
   ]
  },
  {
   "cell_type": "code",
   "execution_count": 19,
   "id": "556de068-c325-44af-998d-6acfcdcac483",
   "metadata": {},
   "outputs": [],
   "source": [
    "def AgeCategoryrno():        \n",
    "        if (age<18):\n",
    "            print(\"children\")\n",
    "            cate=\"children\"\n",
    "        elif(age<35):\n",
    "            print(\"adult\")\n",
    "            cate=\"adult\"\n",
    "        elif(age<59):\n",
    "            print(\"citizen\")\n",
    "            cate=\"citizen\"\n",
    "        else:\n",
    "            print(\"senior citizen\")\n",
    "            cate=\"senior citizen\"\n",
    "  "
   ]
  },
  {
   "cell_type": "code",
   "execution_count": 25,
   "id": "728a4273-a0d1-4a0f-9de6-567feac898bc",
   "metadata": {},
   "outputs": [
    {
     "name": "stdin",
     "output_type": "stream",
     "text": [
      "Enter the age 99\n"
     ]
    },
    {
     "name": "stdout",
     "output_type": "stream",
     "text": [
      "senior citizen\n"
     ]
    }
   ],
   "source": [
    "age=int(input(\"Enter the age\"))\n",
    "agecate=AgeCategoryrno()"
   ]
  },
  {
   "cell_type": "code",
   "execution_count": 23,
   "id": "3f904f0b-23f6-4d30-af27-20de287e1a0e",
   "metadata": {},
   "outputs": [
    {
     "name": "stdout",
     "output_type": "stream",
     "text": [
      "None\n"
     ]
    }
   ],
   "source": [
    "print(agecate)"
   ]
  },
  {
   "cell_type": "code",
   "execution_count": 68,
   "id": "ab7ca954-366a-40b3-a758-ec95e0e5c5ae",
   "metadata": {},
   "outputs": [],
   "source": [
    "def oddEven():\n",
    "    num=int(input(\"enter the number:\"))\n",
    "    if((num%2)==1):\n",
    "            print(\"odd number\")\n",
    "            message=\"odd number\"\n",
    "    else:\n",
    "            print(\"even number\")\n",
    "            message=\"even number\"  \n",
    "    return message\n",
    "            "
   ]
  },
  {
   "cell_type": "code",
   "execution_count": 74,
   "id": "6df608a6-c32f-4341-af17-e5c3a3d7496e",
   "metadata": {},
   "outputs": [
    {
     "name": "stdin",
     "output_type": "stream",
     "text": [
      "enter the number: 5\n"
     ]
    },
    {
     "name": "stdout",
     "output_type": "stream",
     "text": [
      "odd number\n"
     ]
    }
   ],
   "source": [
    "message=oddEven()"
   ]
  },
  {
   "cell_type": "code",
   "execution_count": 76,
   "id": "1f748c77-7b0d-4aeb-b9d2-278da59a342d",
   "metadata": {},
   "outputs": [
    {
     "name": "stdout",
     "output_type": "stream",
     "text": [
      "The given number is odd\n"
     ]
    }
   ],
   "source": [
    "if (message==\"even number\"):\n",
    "    print(\"The given number is even\")\n",
    "else:\n",
    "    print (\"The given number is odd\")"
   ]
  },
  {
   "cell_type": "code",
   "execution_count": 107,
   "id": "413258df-2cdd-4e48-ba1f-458a4ce39d64",
   "metadata": {},
   "outputs": [],
   "source": [
    "def BMI():\n",
    "    bmi=int(input(\"Enter your BMI Index\"))\n",
    "    if(bmi<16):\n",
    "        print (\"under weight\")\n",
    "        message=\"under weight\"\n",
    "    elif(bmi<25):\n",
    "        print (\"normal\")\n",
    "        message=\"normal\"\n",
    "    elif(bmi<30):\n",
    "        print(\"Over weight\")\n",
    "        message=\"Over weight\"\n",
    "    elif(bmi<35):\n",
    "        print(\"obse\")\n",
    "        message=\"obse\"\n",
    "    else:\n",
    "        print(\"extreme obse\")\n",
    "        message=\"extreme obse\"\n",
    "    return message\n"
   ]
  },
  {
   "cell_type": "code",
   "execution_count": 113,
   "id": "fdc6cfb6-a25e-4758-ba4d-3e36836bf297",
   "metadata": {},
   "outputs": [
    {
     "name": "stdin",
     "output_type": "stream",
     "text": [
      "Enter your BMI Index 30\n"
     ]
    },
    {
     "name": "stdout",
     "output_type": "stream",
     "text": [
      "obse\n"
     ]
    }
   ],
   "source": [
    "bmi=BMI()"
   ]
  },
  {
   "cell_type": "code",
   "execution_count": 115,
   "id": "700c0725-7a12-439d-86aa-dfef7a78ab89",
   "metadata": {},
   "outputs": [
    {
     "data": {
      "text/plain": [
       "'obse'"
      ]
     },
     "execution_count": 115,
     "metadata": {},
     "output_type": "execute_result"
    }
   ],
   "source": [
    "bmi"
   ]
  },
  {
   "cell_type": "code",
   "execution_count": 121,
   "id": "b360f498-50fd-4139-9860-acbbf0f04694",
   "metadata": {},
   "outputs": [],
   "source": [
    "def addition(num1,num2):\n",
    "    add=num1+num2\n",
    "    return add"
   ]
  },
  {
   "cell_type": "code",
   "execution_count": 123,
   "id": "ec80d1b9-9d33-43d5-9019-e68228e2ddd9",
   "metadata": {},
   "outputs": [
    {
     "data": {
      "text/plain": [
       "9"
      ]
     },
     "execution_count": 123,
     "metadata": {},
     "output_type": "execute_result"
    }
   ],
   "source": [
    "addition(5,4)"
   ]
  },
  {
   "cell_type": "code",
   "execution_count": 129,
   "id": "9d09a0a7-1a97-4c07-9787-b43c90de5cc1",
   "metadata": {},
   "outputs": [],
   "source": [
    "def sub(num1,num2):\n",
    "    sub=num1-num2\n",
    "    return sub"
   ]
  },
  {
   "cell_type": "code",
   "execution_count": 131,
   "id": "6a751240-6b8e-422c-ae47-e976f4cf5dae",
   "metadata": {},
   "outputs": [
    {
     "data": {
      "text/plain": [
       "2"
      ]
     },
     "execution_count": 131,
     "metadata": {},
     "output_type": "execute_result"
    }
   ],
   "source": [
    "sub(5,3)"
   ]
  },
  {
   "cell_type": "code",
   "execution_count": null,
   "id": "6a5a838d-7e59-44a6-8365-53b5cc532d12",
   "metadata": {},
   "outputs": [],
   "source": []
  }
 ],
 "metadata": {
  "kernelspec": {
   "display_name": "Python 3 (ipykernel)",
   "language": "python",
   "name": "python3"
  },
  "language_info": {
   "codemirror_mode": {
    "name": "ipython",
    "version": 3
   },
   "file_extension": ".py",
   "mimetype": "text/x-python",
   "name": "python",
   "nbconvert_exporter": "python",
   "pygments_lexer": "ipython3",
   "version": "3.12.7"
  }
 },
 "nbformat": 4,
 "nbformat_minor": 5
}
