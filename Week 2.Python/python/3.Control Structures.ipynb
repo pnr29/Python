{
 "cells": [
  {
   "cell_type": "code",
   "execution_count": 1,
   "id": "15822abe-ecca-4fee-ab4b-e1f15f078b02",
   "metadata": {},
   "outputs": [],
   "source": [
    "#if\n",
    "if():\n",
    "    print()"
   ]
  },
  {
   "cell_type": "code",
   "execution_count": 5,
   "id": "c35de0f1-cb17-45ed-8685-a4374f71c0df",
   "metadata": {},
   "outputs": [
    {
     "name": "stdin",
     "output_type": "stream",
     "text": [
      "Enter the Age: 18\n"
     ]
    }
   ],
   "source": [
    "age=int(input(\"Enter the Age:\"))\n"
   ]
  },
  {
   "cell_type": "code",
   "execution_count": 7,
   "id": "718719da-de43-484a-bd46-293a0a532eb1",
   "metadata": {},
   "outputs": [
    {
     "name": "stdout",
     "output_type": "stream",
     "text": [
      "adult\n"
     ]
    }
   ],
   "source": [
    "if(age==18):\n",
    "    print(\"adult\")"
   ]
  },
  {
   "cell_type": "code",
   "execution_count": null,
   "id": "6a1e29ae-889c-4d74-883d-7da191864f9c",
   "metadata": {},
   "outputs": [],
   "source": [
    "if(condiation):\n",
    "    print()\n",
    "else:"
   ]
  },
  {
   "cell_type": "code",
   "execution_count": null,
   "id": "3ee903e3-b08a-4be5-96be-8623521f9962",
   "metadata": {},
   "outputs": [],
   "source": [
    "for temp in range (1,11):\n",
    "    "
   ]
  },
  {
   "cell_type": "code",
   "execution_count": null,
   "id": "cca58198-907a-4e9b-b230-6a718597ff9c",
   "metadata": {},
   "outputs": [],
   "source": [
    "def():\n"
   ]
  },
  {
   "cell_type": "code",
   "execution_count": null,
   "id": "ba9654b4-b622-4c59-bd6c-06ead78e6317",
   "metadata": {},
   "outputs": [],
   "source": [
    "#if-else"
   ]
  },
  {
   "cell_type": "code",
   "execution_count": null,
   "id": "e4d34aab-9c36-4ce0-a5b3-eff73d2d768c",
   "metadata": {},
   "outputs": [],
   "source": [
    "if():\n",
    "    print()\n",
    "else:\n",
    "    print()"
   ]
  },
  {
   "cell_type": "code",
   "execution_count": 15,
   "id": "5cdf2505-002e-4fb9-b16d-a91e29c4c490",
   "metadata": {},
   "outputs": [
    {
     "name": "stdin",
     "output_type": "stream",
     "text": [
      "enter the age: 15\n"
     ]
    }
   ],
   "source": [
    "\n",
    "age=int(input(\"enter the age:\"))"
   ]
  },
  {
   "cell_type": "code",
   "execution_count": null,
   "id": "0e354ed8-3506-4075-bf65-802e6c2514dc",
   "metadata": {},
   "outputs": [],
   "source": []
  },
  {
   "cell_type": "code",
   "execution_count": 17,
   "id": "42b20fa1-37d2-47ae-94dd-4ee991a182b6",
   "metadata": {},
   "outputs": [
    {
     "name": "stdout",
     "output_type": "stream",
     "text": [
      "Child\n"
     ]
    }
   ],
   "source": [
    "if(age<18):\n",
    "    print(\"Child\")\n",
    "else:\n",
    "    print(\"adult\")"
   ]
  },
  {
   "cell_type": "code",
   "execution_count": null,
   "id": "df065a73-8efc-49ee-9a60-954b07d86ffa",
   "metadata": {},
   "outputs": [],
   "source": [
    "#if-elif"
   ]
  },
  {
   "cell_type": "code",
   "execution_count": null,
   "id": "e0f44caa-4583-45b9-a1da-cdf513a5ab3f",
   "metadata": {},
   "outputs": [],
   "source": [
    "if():\n",
    "    print()\n",
    "elif():\n",
    "    print()\n",
    "elif():\n",
    "    print()\n",
    "else:\n",
    "    print()"
   ]
  },
  {
   "cell_type": "markdown",
   "id": "cf5d6b9d-f6e5-4bdf-b217-1d46cdff55a9",
   "metadata": {},
   "source": [
    "age<18-->children\n",
    "age<35-->adult\n",
    "age<59-->citizen\n",
    "age<59-->senior citizen\n",
    "\n"
   ]
  },
  {
   "cell_type": "code",
   "execution_count": 31,
   "id": "70b2457f-30e8-4dd2-81dd-9aa2c87340fc",
   "metadata": {},
   "outputs": [
    {
     "name": "stdin",
     "output_type": "stream",
     "text": [
      "enter the age: 80\n"
     ]
    }
   ],
   "source": [
    "age=int(input(\"enter the age:\"))"
   ]
  },
  {
   "cell_type": "code",
   "execution_count": 33,
   "id": "1642d179-97ce-4a78-b773-4d4b544c6e3b",
   "metadata": {},
   "outputs": [
    {
     "name": "stdout",
     "output_type": "stream",
     "text": [
      "senior citizen\n"
     ]
    }
   ],
   "source": [
    "if(age<18):\n",
    "    print(\"Children\")\n",
    "elif(age<35):\n",
    "    print(\"adult\")\n",
    "elif(age<59):\n",
    "    print(\"citizen\")\n",
    "else:\n",
    "    print(\"senior citizen\")"
   ]
  },
  {
   "cell_type": "code",
   "execution_count": null,
   "id": "f251990d-06d6-4518-ac95-3f7f7313cda1",
   "metadata": {},
   "outputs": [],
   "source": [
    "#for loop"
   ]
  },
  {
   "cell_type": "code",
   "execution_count": 37,
   "id": "1b7a0d23-9709-4406-8d83-2e93314435d2",
   "metadata": {},
   "outputs": [],
   "source": [
    "lists=[23,45,67,34,89]"
   ]
  },
  {
   "cell_type": "code",
   "execution_count": 63,
   "id": "f700a79b-d2e0-463f-9dc2-97b20a7593ff",
   "metadata": {},
   "outputs": [
    {
     "name": "stdout",
     "output_type": "stream",
     "text": [
      "23\n",
      "45\n",
      "67\n",
      "34\n",
      "89\n"
     ]
    }
   ],
   "source": [
    "for temp in lists:\n",
    "    print(temp)"
   ]
  },
  {
   "cell_type": "code",
   "execution_count": 69,
   "id": "a9283219-09ae-4f87-b80f-0e81f7036026",
   "metadata": {},
   "outputs": [
    {
     "name": "stdout",
     "output_type": "stream",
     "text": [
      "adult\n",
      "citizen\n",
      "senior citizen\n",
      "adult\n",
      "senior citizen\n"
     ]
    }
   ],
   "source": [
    "for age in lists:\n",
    "    if (age<18):\n",
    "        print(\"children\")\n",
    "    elif(age<35):\n",
    "        print(\"adult\")\n",
    "    elif(age<59):\n",
    "        print(\"citizen\")\n",
    "    else:\n",
    "        print(\"senior citizen\")"
   ]
  },
  {
   "cell_type": "code",
   "execution_count": null,
   "id": "e3cc3d00-5562-4a73-bff2-6bbdf9b5b98a",
   "metadata": {},
   "outputs": [],
   "source": [
    "for temp variable in mainvariable :\n",
    "    print()"
   ]
  },
  {
   "cell_type": "code",
   "execution_count": null,
   "id": "40f1af06-f214-44bf-b14f-8c513c4df6e9",
   "metadata": {},
   "outputs": [],
   "source": [
    "How to write logic"
   ]
  },
  {
   "cell_type": "code",
   "execution_count": 71,
   "id": "7a22d15c-c99f-4171-9720-16330ebcfb22",
   "metadata": {},
   "outputs": [
    {
     "name": "stdin",
     "output_type": "stream",
     "text": [
      "enter the number 3\n"
     ]
    },
    {
     "name": "stdout",
     "output_type": "stream",
     "text": [
      "odd number\n"
     ]
    }
   ],
   "source": [
    "num=int(input(\"enter the number\"))\n",
    "if((num%2)==0):\n",
    "    print(\"even number\")\n",
    "else:\n",
    "    print(\"odd number\")\n",
    "       "
   ]
  },
  {
   "cell_type": "code",
   "execution_count": 73,
   "id": "eae23cc8-6ab3-42c7-ace4-c3a6454b5dcb",
   "metadata": {},
   "outputs": [
    {
     "name": "stdin",
     "output_type": "stream",
     "text": [
      "enter the number 3\n"
     ]
    },
    {
     "name": "stdout",
     "output_type": "stream",
     "text": [
      "odd number\n"
     ]
    }
   ],
   "source": [
    "num=int(input(\"enter the number\"))\n",
    "if((num%2)==1):\n",
    "    print(\"odd number\")\n",
    "else:\n",
    "    print(\"even number\")"
   ]
  },
  {
   "cell_type": "code",
   "execution_count": 75,
   "id": "5b631006-5009-4f5b-a939-d38ee6e007e7",
   "metadata": {},
   "outputs": [
    {
     "data": {
      "text/plain": [
       "range(0, 10)"
      ]
     },
     "execution_count": 75,
     "metadata": {},
     "output_type": "execute_result"
    }
   ],
   "source": [
    "range(0,10)"
   ]
  },
  {
   "cell_type": "code",
   "execution_count": 77,
   "id": "d87b7eae-c673-4509-9ee4-dfdf7c82fb31",
   "metadata": {},
   "outputs": [
    {
     "name": "stdout",
     "output_type": "stream",
     "text": [
      "range(0, 10)\n"
     ]
    }
   ],
   "source": [
    "print(range(0,10))"
   ]
  },
  {
   "cell_type": "code",
   "execution_count": 81,
   "id": "63e91f54-738b-4317-9010-ad8270ea7b3b",
   "metadata": {},
   "outputs": [
    {
     "name": "stdout",
     "output_type": "stream",
     "text": [
      "0\n",
      "1\n",
      "2\n",
      "3\n",
      "4\n",
      "5\n",
      "6\n",
      "7\n",
      "8\n",
      "9\n"
     ]
    }
   ],
   "source": [
    "for num in range (0,10):\n",
    "    print(num)"
   ]
  },
  {
   "cell_type": "code",
   "execution_count": 89,
   "id": "b1f1caeb-4377-430e-9d5f-0a0f67fe56d3",
   "metadata": {},
   "outputs": [
    {
     "name": "stdout",
     "output_type": "stream",
     "text": [
      "20\n",
      "28\n",
      "36\n",
      "44\n",
      "52\n",
      "60\n",
      "68\n",
      "76\n",
      "84\n",
      "92\n"
     ]
    }
   ],
   "source": [
    "for num in range (20,100,8):\n",
    "    print(num)"
   ]
  },
  {
   "cell_type": "code",
   "execution_count": null,
   "id": "2ec1a9bb-99b1-4d50-a98b-32e91e5b81d2",
   "metadata": {},
   "outputs": [],
   "source": []
  }
 ],
 "metadata": {
  "kernelspec": {
   "display_name": "Python 3 (ipykernel)",
   "language": "python",
   "name": "python3"
  },
  "language_info": {
   "codemirror_mode": {
    "name": "ipython",
    "version": 3
   },
   "file_extension": ".py",
   "mimetype": "text/x-python",
   "name": "python",
   "nbconvert_exporter": "python",
   "pygments_lexer": "ipython3",
   "version": "3.12.7"
  }
 },
 "nbformat": 4,
 "nbformat_minor": 5
}
