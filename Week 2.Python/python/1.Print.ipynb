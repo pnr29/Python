{
 "cells": [
  {
   "cell_type": "code",
   "execution_count": 2,
   "id": "cff9788a-32ef-4d42-8f4f-cd25bce06234",
   "metadata": {},
   "outputs": [
    {
     "name": "stdout",
     "output_type": "stream",
     "text": [
      "welocme to PIC\n"
     ]
    }
   ],
   "source": [
    "print (\"welocme to PIC\")"
   ]
  },
  {
   "cell_type": "code",
   "execution_count": 4,
   "id": "a9e06bad-2885-4dae-8ccc-61cae54657b8",
   "metadata": {},
   "outputs": [
    {
     "name": "stdout",
     "output_type": "stream",
     "text": [
      "welocme to PIC\n"
     ]
    }
   ],
   "source": [
    "print (\"welocme to PIC\")\n"
   ]
  },
  {
   "cell_type": "code",
   "execution_count": 6,
   "id": "18a9124e-5c2e-4088-9989-ef42007a9926",
   "metadata": {},
   "outputs": [
    {
     "name": "stdout",
     "output_type": "stream",
     "text": [
      "Welcome to Thamizhini\n"
     ]
    }
   ],
   "source": [
    "print (\"Welcome to Thamizhini\")\n"
   ]
  },
  {
   "cell_type": "code",
   "execution_count": 8,
   "id": "84040b64-0423-415a-8649-d758dd3a19e1",
   "metadata": {},
   "outputs": [
    {
     "ename": "NameError",
     "evalue": "name 'Print' is not defined",
     "output_type": "error",
     "traceback": [
      "\u001b[1;31m---------------------------------------------------------------------------\u001b[0m",
      "\u001b[1;31mNameError\u001b[0m                                 Traceback (most recent call last)",
      "Cell \u001b[1;32mIn[8], line 1\u001b[0m\n\u001b[1;32m----> 1\u001b[0m Print (\u001b[38;5;124m\"\u001b[39m\u001b[38;5;124mWelcome to Thamizhini\u001b[39m\u001b[38;5;124m\"\u001b[39m)\n",
      "\u001b[1;31mNameError\u001b[0m: name 'Print' is not defined"
     ]
    }
   ],
   "source": [
    "Print (\"Welcome to Thamizhini\")"
   ]
  },
  {
   "cell_type": "code",
   "execution_count": null,
   "id": "b22847a8-d2ab-4660-8852-f467bfa04606",
   "metadata": {},
   "outputs": [],
   "source": []
  }
 ],
 "metadata": {
  "kernelspec": {
   "display_name": "Python 3 (ipykernel)",
   "language": "python",
   "name": "python3"
  },
  "language_info": {
   "codemirror_mode": {
    "name": "ipython",
    "version": 3
   },
   "file_extension": ".py",
   "mimetype": "text/x-python",
   "name": "python",
   "nbconvert_exporter": "python",
   "pygments_lexer": "ipython3",
   "version": "3.12.7"
  }
 },
 "nbformat": 4,
 "nbformat_minor": 5
}
