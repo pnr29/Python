{
 "cells": [
  {
   "cell_type": "code",
   "execution_count": 31,
   "id": "def6f6aa-5bb8-4105-a339-1dfc4c263ab5",
   "metadata": {},
   "outputs": [],
   "source": [
    "from MF import MF\n",
    "#from fileName import classname "
   ]
  },
  {
   "cell_type": "code",
   "execution_count": 33,
   "id": "61bb4e59-d1fe-417b-af46-c41ce91b8ef2",
   "metadata": {},
   "outputs": [
    {
     "name": "stdout",
     "output_type": "stream",
     "text": [
      "Sub-fields in AI are\n",
      "Machine Learning\n",
      "Neural Networks\n",
      "Vision\n",
      "Robotics\n",
      "Speech\n",
      "Processing\n",
      "Natural Language Processing\n"
     ]
    }
   ],
   "source": [
    "MF.Subfields()"
   ]
  },
  {
   "cell_type": "code",
   "execution_count": 35,
   "id": "7864a59b-2a68-466a-a759-ccd1630991d8",
   "metadata": {},
   "outputs": [
    {
     "name": "stdin",
     "output_type": "stream",
     "text": [
      "enter the number: 52452\n"
     ]
    },
    {
     "name": "stdout",
     "output_type": "stream",
     "text": [
      "52452 is Even number\n"
     ]
    }
   ],
   "source": [
    "MF.oddEven()"
   ]
  },
  {
   "cell_type": "code",
   "execution_count": 7,
   "id": "3d876d7c-4a1b-45bf-960d-538496f5a816",
   "metadata": {},
   "outputs": [
    {
     "name": "stdin",
     "output_type": "stream",
     "text": [
      "Subject1=  98\n",
      "Subject2=  87\n",
      "Subject3=  95\n",
      "Subject4=  95\n",
      "Subject5=  93\n"
     ]
    },
    {
     "name": "stdout",
     "output_type": "stream",
     "text": [
      "Total :  468\n",
      "Percentage :  93.60000000000001\n"
     ]
    }
   ],
   "source": [
    "MF.percentage()"
   ]
  },
  {
   "cell_type": "code",
   "execution_count": 39,
   "id": "67968eba-a8d8-4915-a923-14aae94ac99e",
   "metadata": {},
   "outputs": [
    {
     "ename": "AttributeError",
     "evalue": "type object 'MF' has no attribute 'elegible'",
     "output_type": "error",
     "traceback": [
      "\u001b[1;31m---------------------------------------------------------------------------\u001b[0m",
      "\u001b[1;31mAttributeError\u001b[0m                            Traceback (most recent call last)",
      "Cell \u001b[1;32mIn[39], line 1\u001b[0m\n\u001b[1;32m----> 1\u001b[0m MF\u001b[38;5;241m.\u001b[39melegible()\n",
      "\u001b[1;31mAttributeError\u001b[0m: type object 'MF' has no attribute 'elegible'"
     ]
    }
   ],
   "source": [
    "MF.elegible()"
   ]
  },
  {
   "cell_type": "code",
   "execution_count": null,
   "id": "039b038e-2fc4-4adb-b3b9-69b1e376d8dd",
   "metadata": {},
   "outputs": [],
   "source": []
  },
  {
   "cell_type": "code",
   "execution_count": null,
   "id": "342f06c9-6cb5-42b0-91d9-76acb4361e86",
   "metadata": {},
   "outputs": [],
   "source": []
  },
  {
   "cell_type": "code",
   "execution_count": null,
   "id": "24f05bcf-deeb-44e3-bd7d-43f8c3c78a2f",
   "metadata": {},
   "outputs": [],
   "source": []
  },
  {
   "cell_type": "code",
   "execution_count": null,
   "id": "94748199-b6d3-43a2-9c19-e55f9df8a6da",
   "metadata": {},
   "outputs": [],
   "source": []
  },
  {
   "cell_type": "code",
   "execution_count": null,
   "id": "619d0489-65f6-4da3-928d-df39f47c372b",
   "metadata": {},
   "outputs": [],
   "source": []
  }
 ],
 "metadata": {
  "kernelspec": {
   "display_name": "Python 3 (ipykernel)",
   "language": "python",
   "name": "python3"
  },
  "language_info": {
   "codemirror_mode": {
    "name": "ipython",
    "version": 3
   },
   "file_extension": ".py",
   "mimetype": "text/x-python",
   "name": "python",
   "nbconvert_exporter": "python",
   "pygments_lexer": "ipython3",
   "version": "3.12.7"
  }
 },
 "nbformat": 4,
 "nbformat_minor": 5
}
