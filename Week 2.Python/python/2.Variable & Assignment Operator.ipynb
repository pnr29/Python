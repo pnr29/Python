{
 "cells": [
  {
   "cell_type": "code",
   "execution_count": 1,
   "id": "2a50636c-f300-4186-8493-21f06b053360",
   "metadata": {},
   "outputs": [
    {
     "ename": "SyntaxError",
     "evalue": "unterminated string literal (detected at line 4) (1042377482.py, line 4)",
     "output_type": "error",
     "traceback": [
      "\u001b[1;36m  Cell \u001b[1;32mIn[1], line 4\u001b[1;36m\u001b[0m\n\u001b[1;33m    print(\"num1+num2)\u001b[0m\n\u001b[1;37m          ^\u001b[0m\n\u001b[1;31mSyntaxError\u001b[0m\u001b[1;31m:\u001b[0m unterminated string literal (detected at line 4)\n"
     ]
    }
   ],
   "source": [
    "num1=10\n",
    "num2=30\n",
    "add=num1+num2\n",
    "print(\"num1+num2)\n"
   ]
  },
  {
   "cell_type": "code",
   "execution_count": null,
   "id": "348b1ba1-25f0-47ee-85ca-0d4d254b77b2",
   "metadata": {},
   "outputs": [],
   "source": [
    "num1=10\n",
    "num2=30\n",
    "add=num1+num2\n",
    "print(\"add\")"
   ]
  },
  {
   "cell_type": "code",
   "execution_count": null,
   "id": "c0c98f58-1d77-4bf8-9392-e592f6fbd8e9",
   "metadata": {},
   "outputs": [],
   "source": [
    "Rule 1 - Alwvalidate variables names\n",
    "\n",
    "Num1=40\n",
    "Num2=50\n",
    "Add=Num1+Num2\n",
    "Sub=Num1-Num2"
   ]
  },
  {
   "cell_type": "code",
   "execution_count": null,
   "id": "d174e05f-3a4e-4dd6-96c1-93b70c1dd3d9",
   "metadata": {},
   "outputs": [],
   "source": [
    "First Name = \"Thamizhini\""
   ]
  },
  {
   "cell_type": "code",
   "execution_count": null,
   "id": "bab5d688-c58f-4e47-945b-c01ed5aca8e3",
   "metadata": {},
   "outputs": [],
   "source": [
    "Syntax Error :-\n",
    "First_Name= Hello\n",
    "FirstName=hello\n",
    "fisrtName=Hello\n",
    "\n",
    "\n",
    "First starting letter should not come number eg:- 2frist \n",
    "2nd letter we can use numbereg:- f2isrt\n"
   ]
  },
  {
   "cell_type": "code",
   "execution_count": null,
   "id": "dfc35f03-cd09-4684-9be8-e9b45bb659cf",
   "metadata": {},
   "outputs": [],
   "source": [
    "print(\"The addition of two numbers\")\n",
    "num1=50\n",
    "print(\"The Number1:\",num1)\n",
    "num2=100\n",
    "print(\"The Number2:\",num2)\n",
    "print(\"The Answer\",num1+num2)"
   ]
  },
  {
   "cell_type": "code",
   "execution_count": null,
   "id": "8d23e203-facf-4bd5-b6c0-cd190a85c5f3",
   "metadata": {},
   "outputs": [],
   "source": [
    "print(\"The addition of two numbers\")\n",
    "num1=50\n",
    "print(\"The Number1:\",num1)\n",
    "num2=100\n",
    "print(\"The Number2:\",num2)\n",
    "add=num1+num2\n",
    "print(\"The Answer\",add)"
   ]
  },
  {
   "cell_type": "code",
   "execution_count": null,
   "id": "d3e12b5d-3b96-4d90-b744-e0d6f9c9f181",
   "metadata": {},
   "outputs": [],
   "source": [
    "num1=input(\"Enter the num1:\")"
   ]
  },
  {
   "cell_type": "code",
   "execution_count": null,
   "id": "478d0216-2ee1-4d78-8e5e-34e8c3859e0c",
   "metadata": {},
   "outputs": [],
   "source": [
    "num2=input(\"Enter the num2:\")"
   ]
  },
  {
   "cell_type": "code",
   "execution_count": 12,
   "id": "e250cbb0-2d1d-4efe-93f7-6de94795f438",
   "metadata": {},
   "outputs": [
    {
     "name": "stdin",
     "output_type": "stream",
     "text": [
      "Enter your name 29\n"
     ]
    }
   ],
   "source": [
    "num=int(input(\"Enter your name\"))"
   ]
  },
  {
   "cell_type": "code",
   "execution_count": 14,
   "id": "d522a96e-521b-48fe-b272-a7fda4d7f694",
   "metadata": {},
   "outputs": [
    {
     "name": "stdin",
     "output_type": "stream",
     "text": [
      "Enter your name 30\n"
     ]
    }
   ],
   "source": [
    "num=int(input(\"Enter your name\"))"
   ]
  },
  {
   "cell_type": "code",
   "execution_count": null,
   "id": "8fa0eb6e-cfd2-46ee-a0a5-b9546a9f7900",
   "metadata": {},
   "outputs": [],
   "source": []
  }
 ],
 "metadata": {
  "kernelspec": {
   "display_name": "Python 3 (ipykernel)",
   "language": "python",
   "name": "python3"
  },
  "language_info": {
   "codemirror_mode": {
    "name": "ipython",
    "version": 3
   },
   "file_extension": ".py",
   "mimetype": "text/x-python",
   "name": "python",
   "nbconvert_exporter": "python",
   "pygments_lexer": "ipython3",
   "version": "3.12.7"
  }
 },
 "nbformat": 4,
 "nbformat_minor": 5
}
