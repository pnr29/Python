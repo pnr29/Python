{
 "cells": [
  {
   "cell_type": "code",
   "execution_count": null,
   "id": "0d4c95b8-d973-440b-8267-3aecb74a0b5c",
   "metadata": {},
   "outputs": [],
   "source": [
    "Welcome to Assignment-1"
   ]
  },
  {
   "cell_type": "code",
   "execution_count": null,
   "id": "569b9ae6-564b-4688-ad3b-d0ff56bf4d99",
   "metadata": {},
   "outputs": [],
   "source": []
  },
  {
   "cell_type": "code",
   "execution_count": 1,
   "id": "7d089246-ba15-4c06-9b93-a4fd672ff239",
   "metadata": {},
   "outputs": [
    {
     "name": "stdout",
     "output_type": "stream",
     "text": [
      "Welcome to the assignment 1\n"
     ]
    }
   ],
   "source": [
    "print(\"Welcome to the assignment 1\")"
   ]
  },
  {
   "cell_type": "code",
   "execution_count": 5,
   "id": "20539d97-1373-47af-b91c-ec6b0b3ee4cb",
   "metadata": {},
   "outputs": [
    {
     "name": "stdout",
     "output_type": "stream",
     "text": [
      "add\n"
     ]
    }
   ],
   "source": [
    "num1=10\n",
    "num2=30\n",
    "add=num1+num2\n",
    "print(\"add\")\n"
   ]
  },
  {
   "cell_type": "code",
   "execution_count": 7,
   "id": "eacc6dda-0e8b-420f-b89c-8ed1f51f1423",
   "metadata": {},
   "outputs": [
    {
     "name": "stdout",
     "output_type": "stream",
     "text": [
      "40\n"
     ]
    }
   ],
   "source": [
    "num1=10\n",
    "num2=30\n",
    "add=num1+num2\n",
    "print(add)"
   ]
  },
  {
   "cell_type": "code",
   "execution_count": null,
   "id": "c07c6d83-1d0e-43f1-b02e-f5612251a38e",
   "metadata": {},
   "outputs": [],
   "source": [
    "Welcome to Assignment-2"
   ]
  },
  {
   "cell_type": "code",
   "execution_count": 11,
   "id": "06bf53b2-0a0c-4045-908d-b17f1170ad2f",
   "metadata": {},
   "outputs": [
    {
     "name": "stdout",
     "output_type": "stream",
     "text": [
      "Welcome to the assignment 2\n"
     ]
    }
   ],
   "source": [
    "print(\"Welcome to the assignment 2\")"
   ]
  },
  {
   "cell_type": "code",
   "execution_count": 15,
   "id": "ea59231c-8b7e-4794-a83e-9526c182ec5a",
   "metadata": {},
   "outputs": [
    {
     "name": "stdout",
     "output_type": "stream",
     "text": [
      "add\n",
      "70\n"
     ]
    }
   ],
   "source": [
    "num1=25\n",
    "num2=45\n",
    "add=num1+num2\n",
    "print(\"add\")\n",
    "print(add)"
   ]
  },
  {
   "cell_type": "code",
   "execution_count": 17,
   "id": "efc26efc-d544-4a24-a8f3-b00ef2760d4b",
   "metadata": {},
   "outputs": [
    {
     "name": "stdout",
     "output_type": "stream",
     "text": [
      "Welcome to the assignment 3\n"
     ]
    }
   ],
   "source": [
    "print(\"Welcome to the assignment 3\")"
   ]
  },
  {
   "cell_type": "code",
   "execution_count": 21,
   "id": "9839041f-7c91-4145-93f7-1ef1d774adc8",
   "metadata": {},
   "outputs": [
    {
     "name": "stdout",
     "output_type": "stream",
     "text": [
      "sub\n",
      "-20\n"
     ]
    }
   ],
   "source": [
    "num1=25\n",
    "num2=45\n",
    "sub=num1-num2\n",
    "print(\"sub\")\n",
    "print(sub)"
   ]
  },
  {
   "cell_type": "code",
   "execution_count": 23,
   "id": "84a05557-e72a-4159-b3f0-0a7efa90b852",
   "metadata": {},
   "outputs": [
    {
     "name": "stdout",
     "output_type": "stream",
     "text": [
      "Welcome to the assignment 4\n"
     ]
    }
   ],
   "source": [
    "print(\"Welcome to the assignment 4\")"
   ]
  },
  {
   "cell_type": "code",
   "execution_count": 25,
   "id": "4e7c8069-b3d0-4866-a056-113f911d3c38",
   "metadata": {},
   "outputs": [
    {
     "name": "stdout",
     "output_type": "stream",
     "text": [
      "sub\n",
      "156\n"
     ]
    }
   ],
   "source": [
    "num1=1023\n",
    "num2=867\n",
    "sub=num1-num2\n",
    "print(\"sub\")\n",
    "print(sub)"
   ]
  },
  {
   "cell_type": "code",
   "execution_count": 117,
   "id": "c27af4a2-a83d-4625-9210-3b5ecf1ca8d9",
   "metadata": {},
   "outputs": [
    {
     "name": "stdin",
     "output_type": "stream",
     "text": [
      "enter your BMI index: 34\n"
     ]
    }
   ],
   "source": [
    "BMI=(input(\"enter your BMI index:\"))"
   ]
  },
  {
   "cell_type": "code",
   "execution_count": 169,
   "id": "d69fdcc2-bbc6-498e-92ac-061cb1284fa6",
   "metadata": {},
   "outputs": [
    {
     "name": "stdin",
     "output_type": "stream",
     "text": [
      "Enter your BMI Index 40\n"
     ]
    }
   ],
   "source": [
    "bmi=int(input(\"Enter your BMI Index\"))\n"
   ]
  },
  {
   "cell_type": "code",
   "execution_count": 131,
   "id": "9b5fce11-6c14-4f36-93a4-86fbc251ac74",
   "metadata": {},
   "outputs": [
    {
     "name": "stdout",
     "output_type": "stream",
     "text": [
      "obse\n"
     ]
    }
   ],
   "source": [
    "if(bmi<16):\n",
    "\tprint (\"under weight\")\n",
    "elif(bmi<25):\n",
    "\tprint (\"normal weight\")\n",
    "elif(bmi<30):\n",
    "\tprint(\"Over weight\")\n",
    "elif(bmi<35):\n",
    "\tprint(\"Very Overweight\")\n",
    "elif(bmi<60):\n",
    "\tprint(\"extreme obse\")"
   ]
  },
  {
   "cell_type": "code",
   "execution_count": 139,
   "id": "f9e9818f-f73c-4168-a64a-2d3bf2284597",
   "metadata": {},
   "outputs": [
    {
     "name": "stdout",
     "output_type": "stream",
     "text": [
      "under weight\n"
     ]
    }
   ],
   "source": [
    "if(bmi<16):\n",
    "\tprint (\"under weight\")\n",
    "elif(bmi<25):\n",
    "\tprint (\"normal weight\")\n",
    "elif(bmi<30):\n",
    "\tprint(\"Over weight\")\n",
    "elif(bmi<35):\n",
    "\tprint(\"obse\")\n",
    "elif(bmi<60):\n",
    "\tprint(\"extreme obse\")"
   ]
  },
  {
   "cell_type": "code",
   "execution_count": 143,
   "id": "b6f58a95-5e3b-4a68-8d7b-e1f5b6d56fca",
   "metadata": {},
   "outputs": [
    {
     "name": "stdout",
     "output_type": "stream",
     "text": [
      "under weight\n"
     ]
    }
   ],
   "source": [
    "if(bmi<16):\n",
    "\tprint (\"under weight\")\n",
    "elif(bmi<25):\n",
    "\tprint (\"normal weight\")\n",
    "elif(bmi<30):\n",
    "\tprint(\"Over weight\")\n",
    "elif(bmi<35):\n",
    "\tprint(\"obse\")\n",
    "elif(bmi<60):\n",
    "\tprint(\"extreme obse\")"
   ]
  },
  {
   "cell_type": "code",
   "execution_count": 147,
   "id": "39e2d8c1-2341-4eb4-bbca-47fc15b7b206",
   "metadata": {},
   "outputs": [
    {
     "name": "stdout",
     "output_type": "stream",
     "text": [
      "extreme obse\n"
     ]
    }
   ],
   "source": [
    "if(bmi<16):\n",
    "\tprint (\"under weight\")\n",
    "elif(bmi<25):\n",
    "\tprint (\"normal weight\")\n",
    "elif(bmi<30):\n",
    "\tprint(\"Over weight\")\n",
    "elif(bmi<35):\n",
    "\tprint(\"obse\")\n",
    "elif(bmi<60):\n",
    "\tprint(\"extreme obse\")"
   ]
  },
  {
   "cell_type": "code",
   "execution_count": 151,
   "id": "10d4ae5b-486b-42a4-b77b-84fd136d505b",
   "metadata": {},
   "outputs": [
    {
     "name": "stdout",
     "output_type": "stream",
     "text": [
      "normal weight\n"
     ]
    }
   ],
   "source": [
    "if(bmi<16):\n",
    "\tprint (\"under weight\")\n",
    "elif(bmi<25):\n",
    "\tprint (\"normal weight\")\n",
    "elif(bmi<30):\n",
    "\tprint(\"Over weight\")\n",
    "elif(bmi<35):\n",
    "\tprint(\"obse\")\n",
    "elif(bmi<60):\n",
    "\tprint(\"extreme obse\")"
   ]
  },
  {
   "cell_type": "code",
   "execution_count": 175,
   "id": "667ffdd6-707f-485e-b677-4ac7755a2280",
   "metadata": {},
   "outputs": [
    {
     "name": "stdin",
     "output_type": "stream",
     "text": [
      "Enter your BMI Index 34\n"
     ]
    }
   ],
   "source": [
    "bmi=int(input(\"Enter your BMI Index\"))"
   ]
  },
  {
   "cell_type": "code",
   "execution_count": 199,
   "id": "f7d3c39c-fbbc-47c0-8207-0588dc58c72d",
   "metadata": {},
   "outputs": [
    {
     "name": "stdin",
     "output_type": "stream",
     "text": [
      "Enter your BMI Index 56\n"
     ]
    },
    {
     "name": "stdout",
     "output_type": "stream",
     "text": [
      "extreme obse\n"
     ]
    }
   ],
   "source": [
    "bmi=int(input(\"Enter your BMI Index\"))\n",
    "if(bmi<16):\n",
    "\tprint (\"under weight\")\n",
    "elif(bmi<25):\n",
    "\tprint (\"normal weight\")\n",
    "elif(bmi<30):\n",
    "\tprint(\"Over weight\")\n",
    "elif(bmi<35):\n",
    "\tprint(\"obse\")\n",
    "elif(bmi<60):\n",
    "\tprint(\"extreme obse\")"
   ]
  },
  {
   "cell_type": "code",
   "execution_count": 201,
   "id": "e3dbb6a4-b568-4195-ada8-c5295f578b72",
   "metadata": {},
   "outputs": [
    {
     "ename": "SyntaxError",
     "evalue": "unterminated string literal (detected at line 6) (554353000.py, line 6)",
     "output_type": "error",
     "traceback": [
      "\u001b[1;36m  Cell \u001b[1;32mIn[201], line 6\u001b[1;36m\u001b[0m\n\u001b[1;33m    num=int(input(num1+num2\"))\u001b[0m\n\u001b[1;37m                           ^\u001b[0m\n\u001b[1;31mSyntaxError\u001b[0m\u001b[1;31m:\u001b[0m unterminated string literal (detected at line 6)\n"
     ]
    }
   ],
   "source": [
    "num1=10\n",
    "num2=30\n",
    "add=num1+num2\n",
    "print(add)\n",
    "\n",
    "num=int(input(num1+num2\"))"
   ]
  },
  {
   "cell_type": "code",
   "execution_count": null,
   "id": "c225792c-be18-4323-9cab-9aca093a1c03",
   "metadata": {},
   "outputs": [],
   "source": []
  }
 ],
 "metadata": {
  "kernelspec": {
   "display_name": "Python 3 (ipykernel)",
   "language": "python",
   "name": "python3"
  },
  "language_info": {
   "codemirror_mode": {
    "name": "ipython",
    "version": 3
   },
   "file_extension": ".py",
   "mimetype": "text/x-python",
   "name": "python",
   "nbconvert_exporter": "python",
   "pygments_lexer": "ipython3",
   "version": "3.12.7"
  }
 },
 "nbformat": 4,
 "nbformat_minor": 5
}
