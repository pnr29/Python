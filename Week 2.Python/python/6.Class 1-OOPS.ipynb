{
 "cells": [
  {
   "cell_type": "code",
   "execution_count": 40,
   "id": "a7bc0495-7fbb-4378-9f20-8911e323ecf0",
   "metadata": {},
   "outputs": [],
   "source": [
    "class multipleFunctions():\n",
    "    \n",
    "            def oddEven():\n",
    "                num=int(input(\"enter the number:\"))\n",
    "                if((num%2)==1):\n",
    "                    print(\"odd number\")\n",
    "                    message=\"odd number\"\n",
    "                else:\n",
    "                    print(\"even number\")\n",
    "                    message=\"even number\"  \n",
    "                return message\n",
    "    \n",
    "            def BMI():\n",
    "                bmi=int(input(\"Enter your BMI Index\"))\n",
    "                if(bmi<16):\n",
    "                    print (\"under weight\")\n",
    "                    message=\"under weight\"\n",
    "                elif(bmi<25):\n",
    "                    print (\"normal\")\n",
    "                    message=\"normal\"\n",
    "                elif(bmi<30):\n",
    "                    print(\"Over weight\")\n",
    "                    message=\"Over weight\"\n",
    "                elif(bmi<35):\n",
    "                    print(\"obse\")\n",
    "                    message=\"obse\"\n",
    "                else:\n",
    "                    print(\"extreme obse\")\n",
    "                    message=\"extreme obse\"\n",
    "                return message\n",
    "                \n",
    "                   "
   ]
  },
  {
   "cell_type": "code",
   "execution_count": 38,
   "id": "4e27b653-3c79-4dcf-a65c-32a7b6a4748d",
   "metadata": {},
   "outputs": [
    {
     "name": "stdin",
     "output_type": "stream",
     "text": [
      "Enter your BMI Index 28\n"
     ]
    },
    {
     "name": "stdout",
     "output_type": "stream",
     "text": [
      "Over weight\n"
     ]
    },
    {
     "data": {
      "text/plain": [
       "'Over weight'"
      ]
     },
     "execution_count": 38,
     "metadata": {},
     "output_type": "execute_result"
    }
   ],
   "source": [
    "multipleFunctions.BMI()"
   ]
  },
  {
   "cell_type": "code",
   "execution_count": 42,
   "id": "e1fb2ce7-b004-40c2-a522-4650f10389c9",
   "metadata": {},
   "outputs": [
    {
     "name": "stdin",
     "output_type": "stream",
     "text": [
      "enter the number: 29\n"
     ]
    },
    {
     "name": "stdout",
     "output_type": "stream",
     "text": [
      "odd number\n"
     ]
    },
    {
     "data": {
      "text/plain": [
       "'odd number'"
      ]
     },
     "execution_count": 42,
     "metadata": {},
     "output_type": "execute_result"
    }
   ],
   "source": [
    "multipleFunctions.oddEven()"
   ]
  },
  {
   "cell_type": "code",
   "execution_count": null,
   "id": "00b52cc5-8021-4556-ab4a-2119546a9894",
   "metadata": {},
   "outputs": [],
   "source": []
  }
 ],
 "metadata": {
  "kernelspec": {
   "display_name": "Python 3 (ipykernel)",
   "language": "python",
   "name": "python3"
  },
  "language_info": {
   "codemirror_mode": {
    "name": "ipython",
    "version": 3
   },
   "file_extension": ".py",
   "mimetype": "text/x-python",
   "name": "python",
   "nbconvert_exporter": "python",
   "pygments_lexer": "ipython3",
   "version": "3.12.7"
  }
 },
 "nbformat": 4,
 "nbformat_minor": 5
}
