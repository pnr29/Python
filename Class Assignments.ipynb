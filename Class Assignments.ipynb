{
 "cells": [
  {
   "cell_type": "code",
   "execution_count": 13,
   "id": "475b6716-ea46-4407-9bca-83161e4c8e44",
   "metadata": {},
   "outputs": [],
   "source": [
    "# Create a class and function, and list out the items in the list\n",
    "\n",
    "class SubfieldsInAI():\n",
    "    def Subfields():\n",
    "        print(\"Sub-fields in AI are\")\n",
    "        List=['Machine Learning', 'Neural Networks', 'Vision', 'Robotics', 'Speech','Processing', 'Natural Language Processing']\n",
    "        for temp in List:\n",
    "            print(temp)"
   ]
  },
  {
   "cell_type": "code",
   "execution_count": 17,
   "id": "df6f6c73-057d-4421-8565-1b1dc60a20fe",
   "metadata": {},
   "outputs": [
    {
     "name": "stdout",
     "output_type": "stream",
     "text": [
      "Sub-fields in AI are\n",
      "Machine Learning\n",
      "Neural Networks\n",
      "Vision\n",
      "Robotics\n",
      "Speech\n",
      "Processing\n",
      "Natural Language Processing\n"
     ]
    }
   ],
   "source": [
    "SubfieldsInAI.Subfields()"
   ]
  },
  {
   "cell_type": "code",
   "execution_count": 25,
   "id": "8f2a82ce-e904-437d-9b10-9cca7b389094",
   "metadata": {},
   "outputs": [],
   "source": [
    "class oddEven():\n",
    "    def oddEven():\n",
    "        num=int(input(\"enter the number:\"))\n",
    "        if (num%2)==0:\n",
    "            print(\"{0} is Even number\".format(num))\n",
    "        else:\n",
    "            print(\"{0} is odd number\".format(num))"
   ]
  },
  {
   "cell_type": "code",
   "execution_count": 29,
   "id": "3d6710b7-fefd-4593-8eb9-a3b9a45fcdb0",
   "metadata": {},
   "outputs": [
    {
     "name": "stdin",
     "output_type": "stream",
     "text": [
      "enter the number: 52452\n"
     ]
    },
    {
     "name": "stdout",
     "output_type": "stream",
     "text": [
      "52452 is Even number\n"
     ]
    }
   ],
   "source": [
    "oddEven.oddEven()"
   ]
  },
  {
   "cell_type": "code",
   "execution_count": 174,
   "id": "7fd33f04-43db-4368-935f-865b47c12aa4",
   "metadata": {},
   "outputs": [],
   "source": [
    "class ElegiblityForMarriage():\n",
    "    \n",
    "    def elegible():\n",
    "        gender=input(\"Your Gender:\")\n",
    "        age=int(input(\"Your Age:\"))\n",
    "        if(gender=='Male'):\n",
    "            if(age >=21):\n",
    "                print('elegible')\n",
    "            else:\n",
    "                print(\"NOT elegible\")\n",
    "        elif (gender=='Female'):\n",
    "            if(age >18):\n",
    "                print('elegible')\n",
    "            else:\n",
    "                print('NOT elegible')\n",
    "    "
   ]
  },
  {
   "cell_type": "code",
   "execution_count": 176,
   "id": "44c9d6cd-ddac-4235-91c1-c5a56ac917e7",
   "metadata": {},
   "outputs": [
    {
     "name": "stdin",
     "output_type": "stream",
     "text": [
      "Your Gender: Male\n",
      "Your Age: 20\n"
     ]
    },
    {
     "name": "stdout",
     "output_type": "stream",
     "text": [
      "NOT elegible\n"
     ]
    }
   ],
   "source": [
    "ElegiblityForMarriage.elegible()"
   ]
  },
  {
   "cell_type": "code",
   "execution_count": 192,
   "id": "bee3a3ad-da19-47e7-8d21-f46713231140",
   "metadata": {},
   "outputs": [],
   "source": [
    "class FindPercent():\n",
    "    def percentage():\n",
    "        m1=int(input(\"Subject1= \"))\n",
    "        m2=int(input(\"Subject2= \"))\n",
    "        m3=int(input(\"Subject3= \"))\n",
    "        m4=int(input(\"Subject4= \"))\n",
    "        m5=int(input(\"Subject5= \"))\n",
    "        Total = m1+m2+m3+m4+m5\n",
    "        print(\"Total : \",m1+m2+m3+m4+m5)\n",
    "        Percent = (Total / 500) * 100\n",
    "        print(\"Percentage : \",Percent)"
   ]
  },
  {
   "cell_type": "code",
   "execution_count": 194,
   "id": "c2be259e-93c3-4269-8242-393f21458acb",
   "metadata": {},
   "outputs": [
    {
     "name": "stdin",
     "output_type": "stream",
     "text": [
      "Subject1=  98\n",
      "Subject2=  87\n",
      "Subject3=  95\n",
      "Subject4=  95\n",
      "Subject5=  93\n"
     ]
    },
    {
     "name": "stdout",
     "output_type": "stream",
     "text": [
      "Total :  468\n",
      "Percentage :  93.60000000000001\n"
     ]
    }
   ],
   "source": [
    "FindPercent.percentage()"
   ]
  },
  {
   "cell_type": "code",
   "execution_count": 188,
   "id": "a1d46845-8db9-4d9c-a1b1-bd97957bb76e",
   "metadata": {},
   "outputs": [],
   "source": [
    "class triangle():\n",
    "    def triangle():\n",
    "        Height=int(input(\"Height:\"))\n",
    "        breadth=int(input(\"Breadth:\"))\n",
    "        print(\"Area formula: (Height*Breadth)/2\")\n",
    "        print(\"Area of Triangle: \",(Height*breadth)/2)\n",
    "        Height1=int(input(\"Height1:\"))\n",
    "        Height2=int(input(\"Height2:\"))\n",
    "        breadth=int(input(\"Breadth:\"))\n",
    "        print(\"Perimeter formula: Height1+Height2+Breadth\")\n",
    "        print(\"Perimeter of Triangle: \",Height1+Height2+breadth)"
   ]
  },
  {
   "cell_type": "code",
   "execution_count": 190,
   "id": "84ace980-0159-4ec2-aaec-c44d8195f651",
   "metadata": {},
   "outputs": [
    {
     "name": "stdin",
     "output_type": "stream",
     "text": [
      "Height: 32\n",
      "Breadth: 34\n"
     ]
    },
    {
     "name": "stdout",
     "output_type": "stream",
     "text": [
      "Area formula: (Height*Breadth)/2\n",
      "Area of Triangle:  544.0\n"
     ]
    },
    {
     "name": "stdin",
     "output_type": "stream",
     "text": [
      "Height1: 2\n",
      "Height2: 4\n",
      "Breadth: 4\n"
     ]
    },
    {
     "name": "stdout",
     "output_type": "stream",
     "text": [
      "Perimeter formula: Height1+Height2+Breadth\n",
      "Perimeter of Triangle:  10\n"
     ]
    }
   ],
   "source": [
    "triangle.triangle()"
   ]
  },
  {
   "cell_type": "code",
   "execution_count": null,
   "id": "47fe7974-3081-436c-b4d8-bf1b3ec97a36",
   "metadata": {},
   "outputs": [],
   "source": []
  }
 ],
 "metadata": {
  "kernelspec": {
   "display_name": "Python 3 (ipykernel)",
   "language": "python",
   "name": "python3"
  },
  "language_info": {
   "codemirror_mode": {
    "name": "ipython",
    "version": 3
   },
   "file_extension": ".py",
   "mimetype": "text/x-python",
   "name": "python",
   "nbconvert_exporter": "python",
   "pygments_lexer": "ipython3",
   "version": "3.12.7"
  }
 },
 "nbformat": 4,
 "nbformat_minor": 5
}
